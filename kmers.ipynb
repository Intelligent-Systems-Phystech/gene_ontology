{
 "cells": [
  {
   "cell_type": "markdown",
   "metadata": {},
   "source": [
    "Experiment on filtered labels with k-mers instead of chars. \n",
    "5-fold validation."
   ]
  },
  {
   "cell_type": "code",
   "execution_count": 2,
   "metadata": {},
   "outputs": [],
   "source": [
    "from gensim.models import Word2Vec\n",
    "import annoy # fast approximate KNN\n",
    "import numpy as np"
   ]
  },
  {
   "cell_type": "code",
   "execution_count": 3,
   "metadata": {},
   "outputs": [
    {
     "name": "stdout",
     "output_type": "stream",
     "text": [
      "gene seq annot\r\n",
      "\"P32317\" \"MIALKPNAVRTFRQVQHCSFRICRYQSTKSNKCLTPLQEYDRLVKLGKLRDDTYQRGIISSLGDLYDSLVKYVPPVVKTPNAVDQVGGWLNGLKSVFSRGKPKNIGAYVDVSKIGNSIPRGVYLYGDVGCGKTMLMDLFYTTIPNHLTKKRIHFHQFMQYVHKRSHEIVREQNLKELGDAKGKEIDTVPFLAAEIANNSHVLCFDEFQVTDVADAMILRRLMTALLSDDYGVVLFATSNRHPDELYINGVQRQSFIPCIELIKHRTKVIFLNSPTDYRKIPRPVSSVYYFPSDTSIKYASKECKTRRETHIKEWYNYFAQASHTDDSTDSHTVHKTFYDYPLTIWGREFKVPKCTPPRVAQFTFKQLCGEPLAAGDYLTLAKNFEAFIVTDIPYLSIYVRDEVRRFITFLDAVYDSGGKLATTGAADFSSLFVEPEQILNDFELRPTTKEPDSVDTGMVDEMVEKHGFSKEIAKKSQMFALDEERFAFARALSRLSQMSSTDWVTKPTY\" \"GO:0005575, GO:0005622, GO:0005623, GO:0005737, GO:0005739, GO:0043226, GO:0043227, GO:0043229, GO:0043231, GO:0044424, GO:0044444, GO:0044464\"\r\n",
      "\"P87275\" \"MIEEKKELKKRRVLQMARFYGAAAFTLITMRLISRAIKVRKYVPSIFQQNYKLPPFSQRNEAMSALTYASAASIGTFSTLIFGFCWALDISTAREFVFKTREFMSLPQALETDTSMDEETSKLTKQLQDLLSSENNK\" \"GO:0005575, GO:0005622, GO:0005623, GO:0005737, GO:0005739, GO:0043226, GO:0043227, GO:0043229, GO:0043231, GO:0044424, GO:0044444, GO:0044464\"\r\n",
      "\"P39010\" \"MVNELENVPRASTLTNEEQTVDPSNNDSQEDISLGDSNEITSLASLKAIRSGNEEESGNEQVNHNDEAEEDPLLTRYHTACQRGDLATVKEMIHGKLLEVNNDGDSTEHITGLHWASINNRLSVVDFLVSQGADVNARAGALHATPLHWAARYGYVYIVDFLLKHGADPTMTDDQGFNLLHLSVNSSNIMLVLYVLFNVVSKGLLDIDCRDPKGRTSLLWAAYQGDSLTVAELLKFGASIKIADTEGFTPLHWGTVKGQPHVLKYLIQDGADFFQKTDTGKDCFAIAQEMNTVYSLREALTHSGFDYHGYPIKKWFKKSQHAKLVTFITPFLFLGIAFALFSHINPLFVIIVLFLLAIATNKGLNKFVLPSYGRMGVHNVTLLRSPLLSGVFFGTLLWVTIVWFFKVMPRTFSDEQYTNILMLVILVSVFYLFGQLVIMDPGCLPEETDHENVRQTISNLLEIGKFDTKNFCIETWIRKPLRSKFSPLNNAVVARFDHYCPWIFNDVGLKNHKAFIFFITLMESGIFTFLALCLEYFDELEDAHEDTSQKNGKCFILGASDLCSGLIYDRFVFLILLWALLQSIWVASLIFVQAFQICKGMTNTEFNVLMKESKSIGPDGLSFNENFNTTPEGFAPSIDPGEESNDTVLAPVPGSTIRKPRTCFGVCYAVTGMDQWLAVIKETIGIKDSTGHNVYSITSRIPTNYGWKRNVKDFWLTSDINAPLWRRILYPPSGSKALLNGIEVDYFKLYKLPNKDVEQGNDMV\" \"GO:0000139, GO:0005575, GO:0005622, GO:0005623, GO:0005737, GO:0005768, GO:0005769, GO:0005794, GO:0010008, GO:0012505, GO:0016020, GO:0016021, GO:0031090, GO:0031224, GO:0031410, GO:0031901, GO:0031982, GO:0031984, GO:0043226, GO:0043227, GO:0043229, GO:0043231, GO:0044422, GO:0044424, GO:0044425, GO:0044431, GO:0044433, GO:0044440, GO:0044444, GO:0044446, GO:0044464, GO:0097708, GO:0098588, GO:0098791, GO:0098805\"\r\n",
      "\"P54783\" \"MSTIPFRKNYVFKNWAGIYSAKPERYFQPSSIDEVVELVKSARLAEKSLVTVGSGHSPSNMCVTDEWLVNLDRLDKVQKFVEYPELHYADVTVDAGMRLYQLNEFLGAKGYSIQNLGSISEQSVAGIISTGSHGSSPYHGLISSQYVNLTIVNGKGELKFLDAENDPEVFKAALLSVGKIGIIVSATIRVVPGFNIKSTQEVITFENLLKQWDTLWTSSEFIRVWWYPYTRKCVLWRGNKTTDAQNGPAKSWWGTKLGRFFYETLLWISTKIYAPLTPFVEKFVFNRQYGKLEKSSTGDVNVTDSISGFNMDCLFSQFVDEWGCPMDNGLEVLRSLDHSIAQAAINKEFYVHVPMEVRCSNTTLPSEPLDTSKRTNTSPGPVYGNVCRPFLDNTPSHCRFAPLENVTNSQLTLYINATIYRPFGCNTPIHKWFTLFENTMMVAGGKPHWAKNFLGSTTLAAGPVKKDTDYDDFEMRGMALKVEEWYGEDLKKFRKIRKEQDPDNVFLANKQWAIINGIIDPSELSD\" \"GO:0005575, GO:0005622, GO:0005623, GO:0005737, GO:0005739, GO:0005740, GO:0005741, GO:0016020, GO:0019867, GO:0031090, GO:0031966, GO:0031967, GO:0031968, GO:0031975, GO:0043226, GO:0043227, GO:0043229, GO:0043231, GO:0044422, GO:0044424, GO:0044429, GO:0044444, GO:0044446, GO:0044464, GO:0098588, GO:0098805\"\r\n",
      "\"P14904\" \"MEEQREILEQLKKTLQMLTVEPSKNNQIANEEKEKKENENSWCILEHNYEDIAQEFIDFIYKNPTTYHVVSFFAELLDKHNFKYLSEKSNWQDSIGEDGGKFYTIRNGTNLSAFILGKNWRAEKGVGVIGSHVDALTVKLKPVSFKDTAEGYGRIAVAPYGGTLNELWLDRDLGIGGRLLYKKKGTNEIKSALVDSTPLPVCRIPSLAPHFGKPAEGPFDKEDQTIPVIGFPTPDEEGNEPPTDDEKKSPLFGKHCIHLLRYVAKLAGVEVSELIQMDLDLFDVQKGTIGGIGKHFLFAPRLDDRLCSFAAMIALICYAKDVNTEESDLFSTVTLYDNEEIGSLTRQGAKGGLLESVVERSSSAFTKKPVDLHTVWANSIILSADVNHLYNPNFPEVYLKNHFPVPNVGITLSLDPNGHMATDVVGTALVEELARRNGDKVQYFQIKNNSRSGGTIGPSLASQTGARTIDLGIAQLSMHSIRAATGSKDVGLGVKFFNGFFKHWRSVYDEFGEL\" \"GO:0000322, GO:0000323, GO:0000324, GO:0005575, GO:0005576, GO:0005622, GO:0005623, GO:0005737, GO:0005773, GO:0032991, GO:0034270, GO:0043226, GO:0043227, GO:0043229, GO:0043231, GO:0044424, GO:0044444, GO:0044464\"\r\n",
      "\"Q12354\" \"MNGLRVAAKIQPARQTIIFLHGLGDTGSGWGFLAQYLQQRDPAAFQHTNFVFPNAPELHVTANGGALMPAWFDILEWDPSFSKVDSDGFMNSLNSIEKTVKQEIDKGIKPEQIIIGGFSQGAALALATSVTLPWKIGGIVALSGFCSIPGILKQHKNGINVKTPIFHGHGDMDPVVPIGLGIKAKQFYQDSCEIQNYEFKVYKGMAHSTVPDELEDLASFIKKSLSS\" \"GO:0005575, GO:0005622, GO:0005623, GO:0005634, GO:0005737, GO:0043226, GO:0043227, GO:0043229, GO:0043231, GO:0044424, GO:0044464\"\r\n",
      "\"P53629\" \"MDKKKDLLENEQFLRIQKLNAADAGKRQSITVDDEGELYGLDTSGNSPANEHTATTITQNHSVVASNGDVAFIPGTATEGNTEIVTEEVIETDDNMFKTHVKTLSSKEKARYRQGSSNFISYFDDMSFEHRPSILDGSVNEPFKTKFVGPTLEKEIRRREKELMAMRKNLHHRKSSPDAVDSVGKNDGAAPTTVPTAATSETVVTVETTIISSNFSGLYVAFWMAIAFGAVKALIDYYYQHNGSFKDSEILKFMTTNLFTVASVDLLMYLSTYFVVGIQYLCKWGVLKWGTTGWIFTSIYEFLFVIFYMYLTENILKLHWLSKIFLFLHSLVLLMKMHSFAFYNGYLWGIKEELQFSKSALAKYKDSINDPKVIGALEKSCEFCSFELSSQSLSDQTQKFPNNISAKSFFWFTMFPTLIYQIEYPRTKEIRWSYVLEKICAIFGTIFLMMIDAQILMYPVAMRALAVRNSEWTGILDRLLKWVGLLVDIVPGFIVMYILDFYLIWDAILNCVAELTRFGDRYFYGDWWNCVSWADFSRIWNIPVHKFLLRHVYHSSMSSFKLNKSQATLMTFFLSSVVHELAMYVIFKKLRFYLFFFQMLQMPLVALTNTKFMRNRTIIGNVIFWLGICMGPSVMCTLYLTF\" \"GO:0005575, GO:0005622, GO:0005623, GO:0005737, GO:0005783, GO:0005789, GO:0012505, GO:0016020, GO:0016021, GO:0031224, GO:0031984, GO:0042175, GO:0043226, GO:0043227, GO:0043229, GO:0043231, GO:0044422, GO:0044424, GO:0044425, GO:0044432, GO:0044444, GO:0044446, GO:0044464, GO:0098827\"\r\n",
      "\"P53946\" \"MSSRDASLTPLKAVVIDDPPLRQTPEPFDEQSAYNPQSPIAIDFGSSKLRAGFVNHATPTHIFPNALTKFRDRKLNKNFTFVGNDTLLDQAVRSQSRSPFDGPFVTNWNLTEEILDYTFHHLGVVPDNGIPNPILLTERLATVQSQRTNWYQILFETYNVPGVTFGIDSLFSFYNYNPSGNKTGLVISCGHEDTNVIPVVDGAGILTDAKRINWGGHQAVDYLNDLMALKYPYFPTKMSYLQYETMYKDYCYVSRNYDEDIEKILTLENLDTNDVVVEAPFTEVLQPQKTEEELRIQAEKRKETGKRLQEQARLKRMEKLVQKQEEFEYFSKVRDQLIDEPKKKVLSVLQNAGFDDERDFKKYLHSLEQSLKKAQMVEAEDDSHLDEMNEDKTAQKFDLLDIADEDLNEDQIKEKRKQRFLKASQDARQKAKEEKERVAKEEEEKKLKEQQWRETDLNGWIKDKRLKLNKLIKRRKEKLKLRDEMKDRKSQVSQNRMKNLASLAEDNVKQGAKRNRHQATIDNDPNDTFGANDEDWLIYTDITQNPEAFEEALEYEYKDIVELERLLLEHDPNFTEEDTLEAQYDWRNSILHLFLRGPRPHDSENIHEQHQMHLNVERIRVPEVIFQPTMGGQDQAGICELSETILLKKFGSQPGKLSQTSIDMVNNVLITGGNAKVPGLKERIVKEFTGFLPTGTNITVNMSSDPSLDAWKGMAALARNEEQYRKTVISKKEYEEYGPEYIKEHKLGNTKYFED\" \"GO:0000228, GO:0000785, GO:0000790, GO:0005575, GO:0005622, GO:0005623, GO:0005634, GO:0005694, GO:0005737, GO:0031011, GO:0031974, GO:0031981, GO:0032991, GO:0033202, GO:0043226, GO:0043227, GO:0043228, GO:0043229, GO:0043231, GO:0043232, GO:0043233, GO:0044422, GO:0044424, GO:0044427, GO:0044428, GO:0044446, GO:0044454, GO:0044464, GO:0070013, GO:0070603, GO:0097346, GO:1902494, GO:1904949\"\r\n",
      "\"P40518\" \"MEADWRRIDIDAFDPESGRLTAADLVPPYETTVTLQELQPRMNQLRSLATSGDSLGAVQLLTTDPPYSADAPTKEQYFKSVLEALTQVRQADIGNVIKNLSDSQRDVLVKYLYKGMSVPQGQKQGGVLLAWLERITQVSGVTPIVHYISDRRTV\" \"GO:0005575, GO:0005622, GO:0005623, GO:0005737, GO:0005739, GO:0005740, GO:0005741, GO:0005856, GO:0005885, GO:0005938, GO:0015629, GO:0016020, GO:0019867, GO:0019898, GO:0030479, GO:0030863, GO:0030864, GO:0031090, GO:0031312, GO:0031315, GO:0031966, GO:0031967, GO:0031968, GO:0031975, GO:0032991, GO:0043226, GO:0043227, GO:0043228, GO:0043229, GO:0043231, GO:0043232, GO:0044422, GO:0044424, GO:0044425, GO:0044429, GO:0044430, GO:0044444, GO:0044446, GO:0044448, GO:0044455, GO:0044464, GO:0061645, GO:0071944, GO:0098588, GO:0098805, GO:0099568\"\r\n"
     ]
    }
   ],
   "source": [
    "!head ./UP000002311.goByGeneC"
   ]
  },
  {
   "cell_type": "code",
   "execution_count": 3,
   "metadata": {},
   "outputs": [],
   "source": [
    "good_labels = set(['GO:0005634',# nucleus\n",
    "'GO:0005576',# extracellular\n",
    "'GO:0005829',# cytosol\n",
    "'GO:0005856',# cytoskeleton\n",
    "'GO:0005739',# mitochondrion\n",
    "'GO:0005886',# cell_membrane\n",
    "'GO:0005783',# endoplasmic_reticulum\n",
    "'GO:0005794',# golgi_apparatus\n",
    "'GO:0005773',# vacuole\n",
    "'GO:0005777',# peroxysome\n",
    "              ])"
   ]
  },
  {
   "cell_type": "code",
   "execution_count": 5,
   "metadata": {},
   "outputs": [],
   "source": [
    "X = [] # sequence strings\n",
    "Y = [] # list of labels for each sequence\n",
    "all_y = set() # all the labels collected from the dataset\n",
    "with open('./UP000002311.goByGeneC') as inp:\n",
    "    inp.readline() # header\n",
    "    for line in inp:\n",
    "        tokens = map(lambda x: x.strip('\"'), line.split(' ',2))\n",
    "        \n",
    "        object_labels = [t.strip().strip('\"') for t in tokens[2].split(',') if len(t.strip())>0 and t.strip]\n",
    "        object_labels = [y for y in object_labels if y in good_labels]\n",
    "        if len(object_labels)>=1:\n",
    "            X.append(tokens[1])\n",
    "            Y.append(object_labels)\n",
    "            all_y = all_y.union(set(Y[-1]))"
   ]
  },
  {
   "cell_type": "code",
   "execution_count": 6,
   "metadata": {},
   "outputs": [
    {
     "name": "stdout",
     "output_type": "stream",
     "text": [
      "example of X ['MIALKPNAVRTFRQVQHCSFRICRYQSTKSNKCLTPLQEYDRLVKLGKLRDDTYQRGIISSLGDLYDSLVKYVPPVVKTPNAVDQVGGWLNGLKSVFSRGKPKNIGAYVDVSKIGNSIPRGVYLYGDVGCGKTMLMDLFYTTIPNHLTKKRIHFHQFMQYVHKRSHEIVREQNLKELGDAKGKEIDTVPFLAAEIANNSHVLCFDEFQVTDVADAMILRRLMTALLSDDYGVVLFATSNRHPDELYINGVQRQSFIPCIELIKHRTKVIFLNSPTDYRKIPRPVSSVYYFPSDTSIKYASKECKTRRETHIKEWYNYFAQASHTDDSTDSHTVHKTFYDYPLTIWGREFKVPKCTPPRVAQFTFKQLCGEPLAAGDYLTLAKNFEAFIVTDIPYLSIYVRDEVRRFITFLDAVYDSGGKLATTGAADFSSLFVEPEQILNDFELRPTTKEPDSVDTGMVDEMVEKHGFSKEIAKKSQMFALDEERFAFARALSRLSQMSSTDWVTKPTY', 'MIEEKKELKKRRVLQMARFYGAAAFTLITMRLISRAIKVRKYVPSIFQQNYKLPPFSQRNEAMSALTYASAASIGTFSTLIFGFCWALDISTAREFVFKTREFMSLPQALETDTSMDEETSKLTKQLQDLLSSENNK', 'MVNELENVPRASTLTNEEQTVDPSNNDSQEDISLGDSNEITSLASLKAIRSGNEEESGNEQVNHNDEAEEDPLLTRYHTACQRGDLATVKEMIHGKLLEVNNDGDSTEHITGLHWASINNRLSVVDFLVSQGADVNARAGALHATPLHWAARYGYVYIVDFLLKHGADPTMTDDQGFNLLHLSVNSSNIMLVLYVLFNVVSKGLLDIDCRDPKGRTSLLWAAYQGDSLTVAELLKFGASIKIADTEGFTPLHWGTVKGQPHVLKYLIQDGADFFQKTDTGKDCFAIAQEMNTVYSLREALTHSGFDYHGYPIKKWFKKSQHAKLVTFITPFLFLGIAFALFSHINPLFVIIVLFLLAIATNKGLNKFVLPSYGRMGVHNVTLLRSPLLSGVFFGTLLWVTIVWFFKVMPRTFSDEQYTNILMLVILVSVFYLFGQLVIMDPGCLPEETDHENVRQTISNLLEIGKFDTKNFCIETWIRKPLRSKFSPLNNAVVARFDHYCPWIFNDVGLKNHKAFIFFITLMESGIFTFLALCLEYFDELEDAHEDTSQKNGKCFILGASDLCSGLIYDRFVFLILLWALLQSIWVASLIFVQAFQICKGMTNTEFNVLMKESKSIGPDGLSFNENFNTTPEGFAPSIDPGEESNDTVLAPVPGSTIRKPRTCFGVCYAVTGMDQWLAVIKETIGIKDSTGHNVYSITSRIPTNYGWKRNVKDFWLTSDINAPLWRRILYPPSGSKALLNGIEVDYFKLYKLPNKDVEQGNDMV']\n",
      "example of Y [['GO:0005739'], ['GO:0005739'], ['GO:0005794']]\n",
      "example of set of labels ['GO:0005856', 'GO:0005794', 'GO:0005783']\n",
      "total sequences 4552\n",
      "total labels 10\n"
     ]
    }
   ],
   "source": [
    "print 'example of X', X[:3]\n",
    "print 'example of Y', Y[:3]\n",
    "print 'example of set of labels', list(all_y)[:3]\n",
    "print 'total sequences', len(X)\n",
    "print 'total labels', len(all_y)"
   ]
  },
  {
   "cell_type": "code",
   "execution_count": 7,
   "metadata": {},
   "outputs": [],
   "source": [
    "def cv_iter(w2v_params, k=3, overlap=False):    \n",
    "    def kmer(s):\n",
    "        if overlap:\n",
    "            step = 1\n",
    "        else:\n",
    "            step = k\n",
    "        \n",
    "        result = [s[i:i+k] for i in xrange(0, len(s)-k, step)]\n",
    "        if len(result) == 0:\n",
    "            return s \n",
    "        return result\n",
    "        \n",
    "    \"\"\"\n",
    "    one ieration of cross-validation\n",
    "    w2v_params is a dictionary with parameters of gensim.Word2Vec\n",
    "    \"\"\"\n",
    "    indices = range(len(X))\n",
    "    np.random.shuffle(indices)\n",
    "\n",
    "    Xtrain = np.array(X)[indices[:len(indices)/2]]\n",
    "    Ytrain = np.array(Y)[indices[:len(indices)/2]]\n",
    "    Xtest = np.array(X)[indices[len(indices)/2:]]\n",
    "    Ytest = np.array(Y)[indices[len(indices)/2:]]\n",
    "    # split all the strings into lists for word2vec traing\n",
    "    Xtrain = [kmer(x) for x in Xtrain]\n",
    "    Xtest = [kmer(x) for x in Xtest]\n",
    "    model = Word2Vec(Xtrain, **w2v_params)\n",
    "    index = annoy.AnnoyIndex(w2v_params.get('size', 100)) # default value is 100 for gensim.Word2Vec\n",
    "    for i in range(len(Xtrain)):\n",
    "        v= np.mean([model[c] for c in Xtrain[i] if c in model], axis=0) # centroid\n",
    "        if np.isnan(np.mean(v)):\n",
    "            continue\n",
    "        index.add_item(i, v)\n",
    "    index.build(100) # 100 is a number of trees in index, we can alibrate this value\n",
    "    predicted = []\n",
    "    for i in range(len(Xtest)):\n",
    "        v= np.mean([model[c] for c in Xtest[i]  if c in model], axis=0)\n",
    "        if np.isnan(np.mean(v)):\n",
    "            id = -1\n",
    "        else:\n",
    "            id = index.get_nns_by_vector(v,1)[0] #  finding 1 nearest neighbour\n",
    "        predicted.append(id)\n",
    "    tp = 0\n",
    "    fp = 0\n",
    "    true_label_num = 0\n",
    "    for i in xrange(len(Xtest)):\n",
    "        true = set(Ytest[i])\n",
    "        true_label_num+=len(true)\n",
    "        pred = set(Ytrain[predicted[i]])\n",
    "        tp += len(true&pred)\n",
    "        fp += len(pred) - len(true&pred)\n",
    "\n",
    "    prec=tp*1.0/(tp+fp)\n",
    "    rec = tp*1.0/true_label_num\n",
    "    return prec, rec,  2 * prec * rec/ (prec+rec)\n",
    "    "
   ]
  },
  {
   "cell_type": "code",
   "execution_count": 8,
   "metadata": {},
   "outputs": [],
   "source": [
    "def cv(w2v_params = {}, k=3, overlap=False, cv_num = 5 ):\n",
    "    \"\"\"\n",
    "    Cross-validation function.\n",
    "    Returns list with precision, recall and F1 values\n",
    "    \"\"\"\n",
    "    precs, recs, fs = [],[],[]\n",
    "    for _ in range(cv_num):\n",
    "        p,r,f = cv_iter(w2v_params , k=k, overlap=overlap)\n",
    "        precs.append(p)\n",
    "        recs.append(r)\n",
    "        fs.append(f)\n",
    "    return precs, recs, fs"
   ]
  },
  {
   "cell_type": "code",
   "execution_count": 9,
   "metadata": {},
   "outputs": [
    {
     "data": {
      "text/plain": [
       "(0.40283925227577555, 0.40872368758477784, 0.40575593246048464)"
      ]
     },
     "execution_count": 9,
     "metadata": {},
     "output_type": "execute_result"
    }
   ],
   "source": [
    "# simple test, checking everything is correct. The results should be the same as without kmers\n",
    "p,r,f = cv(k=1)\n",
    "np.mean(p), np.mean(r), np.mean(f)"
   ]
  },
  {
   "cell_type": "code",
   "execution_count": 10,
   "metadata": {},
   "outputs": [
    {
     "data": {
      "text/plain": [
       "(0.3817316749082145, 0.3826022563171871, 0.38215667230051475)"
      ]
     },
     "execution_count": 10,
     "metadata": {},
     "output_type": "execute_result"
    }
   ],
   "source": [
    "p,r,f = cv(k=2)\n",
    "np.mean(p), np.mean(r), np.mean(f)"
   ]
  },
  {
   "cell_type": "code",
   "execution_count": null,
   "metadata": {},
   "outputs": [],
   "source": [
    "p,r,f = cv(k=3)\n",
    "np.mean(p), np.mean(r), np.mean(f)"
   ]
  },
  {
   "cell_type": "code",
   "execution_count": 12,
   "metadata": {},
   "outputs": [
    {
     "name": "stderr",
     "output_type": "stream",
     "text": [
      "/usr/local/lib/python2.7/dist-packages/numpy/core/fromnumeric.py:2920: RuntimeWarning: Mean of empty slice.\n",
      "  out=out, **kwargs)\n",
      "/usr/local/lib/python2.7/dist-packages/numpy/core/_methods.py:85: RuntimeWarning: invalid value encountered in double_scalars\n",
      "  ret = ret.dtype.type(ret / rcount)\n"
     ]
    },
    {
     "data": {
      "text/plain": [
       "(0.24736739817214098, 0.24045346291748276, 0.23397273419251144)"
      ]
     },
     "execution_count": 12,
     "metadata": {},
     "output_type": "execute_result"
    }
   ],
   "source": [
    "p,r,f = cv(k=10)\n",
    "np.mean(p), np.mean(r), np.mean(f)"
   ]
  },
  {
   "cell_type": "code",
   "execution_count": 13,
   "metadata": {
    "scrolled": true
   },
   "outputs": [
    {
     "data": {
      "text/plain": [
       "(0.4161790991473529, 0.42664144439367463, 0.42128835478192006)"
      ]
     },
     "execution_count": 13,
     "metadata": {},
     "output_type": "execute_result"
    }
   ],
   "source": [
    "p,r,f = cv(k=2, overlap=True)\n",
    "np.mean(p), np.mean(r), np.mean(f)"
   ]
  },
  {
   "cell_type": "code",
   "execution_count": 14,
   "metadata": {},
   "outputs": [
    {
     "data": {
      "text/plain": [
       "(0.4011508585690322, 0.4120144530122272, 0.40649199810169795)"
      ]
     },
     "execution_count": 14,
     "metadata": {},
     "output_type": "execute_result"
    }
   ],
   "source": [
    "p,r,f = cv(k=3, overlap=True)\n",
    "np.mean(p), np.mean(r), np.mean(f)"
   ]
  },
  {
   "cell_type": "code",
   "execution_count": 10,
   "metadata": {},
   "outputs": [
    {
     "data": {
      "text/plain": [
       "(0.4086118885572902, 0.417190077251247, 0.41283748330960834)"
      ]
     },
     "execution_count": 10,
     "metadata": {},
     "output_type": "execute_result"
    }
   ],
   "source": [
    "# Skip-Gramms \n",
    "p,r,f = cv(w2v_params={\"sg\":1}, k=1, overlap=True)\n",
    "np.mean(p), np.mean(r), np.mean(f)"
   ]
  },
  {
   "cell_type": "code",
   "execution_count": null,
   "metadata": {},
   "outputs": [],
   "source": []
  },
  {
   "cell_type": "code",
   "execution_count": null,
   "metadata": {},
   "outputs": [],
   "source": []
  },
  {
   "cell_type": "code",
   "execution_count": null,
   "metadata": {},
   "outputs": [],
   "source": []
  },
  {
   "cell_type": "code",
   "execution_count": null,
   "metadata": {},
   "outputs": [],
   "source": []
  }
 ],
 "metadata": {
  "kernelspec": {
   "display_name": "Python 2",
   "language": "python",
   "name": "python2"
  },
  "language_info": {
   "codemirror_mode": {
    "name": "ipython",
    "version": 2
   },
   "file_extension": ".py",
   "mimetype": "text/x-python",
   "name": "python",
   "nbconvert_exporter": "python",
   "pygments_lexer": "ipython2",
   "version": "2.7.14"
  }
 },
 "nbformat": 4,
 "nbformat_minor": 2
}
