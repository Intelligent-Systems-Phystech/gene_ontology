{
 "cells": [
  {
   "cell_type": "code",
   "execution_count": 2,
   "metadata": {},
   "outputs": [],
   "source": [
    "from gensim.models import Word2Vec\n",
    "import annoy # fast approximate KNN\n",
    "import numpy as np"
   ]
  },
  {
   "cell_type": "code",
   "execution_count": 2,
   "metadata": {
    "scrolled": true
   },
   "outputs": [
    {
     "name": "stdout",
     "output_type": "stream",
     "text": [
      "\"V1\" \"V2\"\r\n",
      "\"A0PJZ0\" \"MKLFGFRSRRGQTVLGSIDHLYTGSGYRIRYSELQKIHKAAVKGDAAEMERCLARRSGDLDALDKQHRTALHLACASGHVKVVTLLVNRKCQIDIYDKENRTPLIQAVHCQEEACAVILLEHGANPNLKDIYGNTALHYAVYSESTSLAEKLLFHGENIEALDKV\" \"\"\r\n",
      "\"P30461\" \"MRVTAPRTLLLLLWGAVALTETWAGSHSMRYFYTAMSRPGRGEPRFITVGYVDDTQFVRFDSDATSPRMAPRAPWIEQEGPEYWDRETQISKTNTQTYRENLRTALRYYNQSEAGSHTWQTMYGCDLGPDGRLLRGHNQLAYDGKDYIALNEDLSSWTAADTAAQITQLKWEAARVAEQLRAYLEGECVEWLRRYLENGKETLQRADPPKTHVTHHPISDHEATLRCWALGFYPAEITLTWQRDGEDQTQDTELVETRPAGDRTFQKWAAVVVPSGEEQRYTCHVQHEGLPKPLTLRWEPSSQSTVPIVGIVAGLAVLAVVVIGAVVAAVMCRRKSSGGKGGSYSQAACSDSAQGSDVSLTA\" \"\"\r\n",
      "\"P18825\" \"MASPALAAALAVAAAAGPNASGAGERGSGGVANASGASWGPPRGQYSAGAVAGLAAVVGFLIVFTVVGNVLVVIAVLTSRALRAPQNLFLVSLASADILVATLVMPFSLANELMAYWYFGQVWCGVYLALDVLFCTSSIVHLCAISLDRYWSVTQAVEYNLKRTPRRVKATIVAVWLISAVISFPPLVSLYRQPDGAAYPQCGLNDETWYILSSCIGSFFAPCLIMGLVYARIYRVAKLRTRTLSEKRAPVGPDGASPTTENGLGAAAGAGENGHCAPPPADVEPDESSAAAERRRRRGALRRGGRRRAGAEGGAGGADGQGAGPGAAESGALTASRSPGPGGRLSRASSRSVEFFLSRRRRARSSVCRRKVAQAREKRFTFVLAVVMGVFVLCWFPFFFSYSLYGICREACQVPGPLFKFFFWIGYCNSSLNPVIYTVFNQDFRRSFKHILFRRRRRGFRQ\" \"GO:0005575, GO:0005622, GO:0005623, GO:0005737, GO:0005768, GO:0005886, GO:0005887, GO:0012505, GO:0014069, GO:0016020, GO:0016021, GO:0030424, GO:0031224, GO:0031226, GO:0031410, GO:0031982, GO:0032279, GO:0033267, GO:0036477, GO:0042995, GO:0043005, GO:0043025, GO:0043226, GO:0043227, GO:0043229, GO:0043679, GO:0044297, GO:0044306, GO:0044422, GO:0044424, GO:0044425, GO:0044444, GO:0044456, GO:0044459, GO:0044463, GO:0044464, GO:0045202, GO:0045211, GO:0071944, GO:0097060, GO:0097458, GO:0097708, GO:0098590, GO:0098793, GO:0098794, GO:0098839, GO:0098936, GO:0098948, GO:0098978, GO:0098984, GO:0099055, GO:0099060, GO:0099061, GO:0099146, GO:0099240, GO:0099572, GO:0099634, GO:0099699, GO:0120025, GO:0120038, GO:0150034\"\r\n",
      "\"Q9NZK5\" \"MLVDGPSERPALCFLLLAVAMSFFGSALSIDETRAHLLLKEKMMRLGGRLVLNTKEELANERLMTLKIAEMKEAMRTLIFPPSMHFFQAKHLIERSQVFNILRMMPKGAALHLHDIGIVTMDWLVRNVTYRPHCHICFTPRGIMQFRFAHPTPRPSEKCSKWILLEDYRKRVQNVTEFDDSLLRNFTLVTQHPEVIYTNQNVVWSKFETIFFTISGLIHYAPVFRDYVFRSMQEFYEDNVLYMEIRARLLPVYELSGEHHDEEWSVKTYQEVAQKFVETHPEFIGIKIIYSDHRSKDVAVIAESIRMAMGLRIKFPTVVAGFDLVGHEDTGHSLHDYKEALMIPAKDGVKLPYFFHAGETDWQGTSIDRNILDALMLNTTRIGHGFALSKHPAVRTYSWKKDIPIEVCPISNQVLKLVSDLRNHPVATLMATGHPMVISSDDPAMFGAKGLSYDFYEVFMGIGGMKADLRTLKQLAMNSIKYSTLLESEKNTFMEIWKKRWDKFIADVATK\" \"GO:0000323, GO:0005575, GO:0005576, GO:0005615, GO:0005622, GO:0005623, GO:0005737, GO:0005764, GO:0005766, GO:0005773, GO:0005775, GO:0012505, GO:0030141, GO:0031410, GO:0031974, GO:0031982, GO:0031983, GO:0034774, GO:0035578, GO:0042582, GO:0043226, GO:0043227, GO:0043229, GO:0043231, GO:0043233, GO:0044421, GO:0044422, GO:0044424, GO:0044433, GO:0044437, GO:0044444, GO:0044446, GO:0044464, GO:0060205, GO:0070013, GO:0097708, GO:0099503\"\r\n",
      "\"Q99424\" \"MGSPVHRVSLGDTWSRQMHPDIESERYMQSFDVERLTNILDGGAQNTALRRKVESIIHSYPEFSCKDNYFMTQNERYKAAMRRAFHIRLIARRLGWLEDGRELGYAYRALSGDVALNIHRVFVRALRSLGSEEQIAKWDPLCKNIQIIATYAQTELGHGTYLQGLETEATYDAATQEFVIHSPTLTATKWWPGDLGRSATHALVQAQLICSGARRGMHAFIVPIRSLQDHTPLPGIIIGDIGPKMDFDQTDNGFLQLNHVRVPRENMLSRFAQVLPDGTYVKLGTAQSNYLPMVVVRVELLSGEILPILQKACVIAMRYSVIRRQSRLRPSDPEAKVLDYQTQQQKLFPQLAISYAFHFLAVSLLEFFQHSYTAILNQDFSFLPELHALSTGMKAMMSEFCTQGAEMCRRACGGHGYSKLSGLPSLVTKLSASCTYEGENTVLYLQVARFLVKSYLQTQMSPGSTPQRSLSPSVAYLTAPDLARCPAQRAADFLCPELYTTAWAHVAVRLIKDSVQHLQTLTQSGADQHEAWNQTTVIHLQAAKVHCYYVTVKGFTEALEKLENEPAIQQVLKRLCDLHAIHGILTNSGDFLHDAFLSGAQVDMARTAYLDLLRLIRKDAILLTDAFDFTDQCLNSALGCYDGNVYERLFQWAQKSPTNTQENPAYEEYIRPLLQSWRSKL\" \"GO:0005575, GO:0005622, GO:0005623, GO:0005737, GO:0005777, GO:0005782, GO:0005829, GO:0031907, GO:0031974, GO:0042579, GO:0043226, GO:0043227, GO:0043229, GO:0043231, GO:0043233, GO:0044422, GO:0044424, GO:0044438, GO:0044439, GO:0044444, GO:0044446, GO:0044464, GO:0070013\"\r\n",
      "\"Q8WW27\" \"MEPIYEEYLANHGTIVKPYYWLSFSLDCSNCPYHIRTGEEARVSLTEFCQIFGFPYGTTFPQTKHLTFYELKTSSGSLVQKGHASSCTGNYIHPESMLFEMNGYLDSAIYNNDSIRHIILYSNNSPCNEANHCCISKMYNFLITYPGITLSIYFSQLYHTEMDFPASAWNREALRSLASLWPRVVLSPISGGIWHSVLHSFISGVSGSHVFQPILTGRALADRHNAYEINAITGVKPYFTDVLLQTKRNPNTKAQEALESYPLNNAFPGQFFQMPSGQLQPNLPPDLRAPVVFVLVPLRDLPPMHMGQNPNKPRNIVRHLNMPQMSFQETKDLGRLPTGRSVEIVEITEQFASSKEADEKKKKKGKK\" \"\"\r\n",
      "\"Q8NER5\" \"MTRALCSALRQALLLLAAAAELSPGLKCVCLLCDSSNFTCQTEGACWASVMLTNGKEQVIKSCVSLPELNAQVFCHSSNNVTKTECCFTDFCNNITLHLPTASPNAPKLGPMELAIIITVPVCLLSIAAMLTVWACQGRQCSYRKKKRPNVEEPLSECNLVNAGKTLKDLIYDVTASGSGSGLPLLVQRTIARTIVLQEIVGKGRFGEVWHGRWCGEDVAVKIFSSRDERSWFREAEIYQTVMLRHENILGFIAADNKDNGTWTQLWLVSEYHEQGSLYDYLNRNIVTVAGMIKLALSIASGLAHLHMEIVGTQGKPAIAHRDIKSKNILVKKCETCAIADLGLAVKHDSILNTIDIPQNPKVGTKRYMAPEMLDDTMNVNIFESFKRADIYSVGLVYWEIARRCSVGGIVEEYQLPYYDMVPSDPSIEEMRKVVCDQKFRPSIPNQWQSCEALRVMGRIMRECWYANGAARLTALRIKKTISQLCVKEDCKA\" \"GO:0005575, GO:0005623, GO:0005886, GO:0005887, GO:0016020, GO:0016021, GO:0031224, GO:0031226, GO:0032991, GO:0043235, GO:0044425, GO:0044459, GO:0044464, GO:0048179, GO:0061695, GO:0071944, GO:0098796, GO:0098797, GO:0098802, GO:1902494, GO:1902554, GO:1902911, GO:1990234\"\r\n",
      "\"P07311\" \"MAEGNTLISVDYEIFGKVQGVFFRKHTQAEGKKLGLVGWVQNTDRGTVQGQLQGPISKVRHMQEWLETRGSPKSHIDKANFNNEKVILKLDYSDFQIVK\" \"\"\r\n",
      "\"Q9ULC5\" \"MLFIFNFLFSPLPTPALICILTFGAAIFLWLITRPQPVLPLLDLNNQSVGIEGGARKGVSQKNNDLTSCCFSDAKTMYEVFQRGLAVSDNGPCLGYRKPNQPYRWLSYKQVSDRAEYLGSCLLHKGYKSSPDQFVGIFAQNRPEWIISELACYTYSMVAVPLYDTLGPEAIVHIVNKADIAMVICDTPQKALVLIGNVEKGFTPSLKVIILMDPFDDDLKQRGEKSGIEILSLYDAENLGKEHFRKPVPPSPEDLSVICFTSGTTGDPKGAMITHQNIVSNAAAFLKCVEHAYEPTPDDVAISYLPLAHMFERIVQAVVYSCGARVGFFQGDIRLLADDMKTLKPTLFPAVPRLLNRIYDKVQNEAKTPLKKFLLKLAVSSKFKELQKGIIRHDSFWDKLIFAKIQDSLGGRVRVIVTGAAPMSTSVMTFFRAAMGCQVYEAYGQTECTGGCTFTLPGDWTSGHVGVPLACNYVKLEDVADMNYFTVNNEGEVCIKGTNVFKGYLKDPEKTQEALDSDGWLHTGDIGRWLPNGTLKIIDRKKNIFKLAQGEYIAPEKIENIYNRSQPVLQIFVHGESLRSSLVGVVVPDTDVLPSFAAKLGVKGSFEELCQNQVVREAILEDLQKIGKESGLKTFEQVKAIFLHPEPFSIENGLLTPTLKAKRGELSKYFRTQIDSLYEHIQD\" \"GO:0005575, GO:0005622, GO:0005623, GO:0005634, GO:0005730, GO:0005737, GO:0005739, GO:0005740, GO:0005741, GO:0005783, GO:0005789, GO:0012505, GO:0016020, GO:0016021, GO:0019867, GO:0031090, GO:0031224, GO:0031966, GO:0031967, GO:0031968, GO:0031974, GO:0031975, GO:0031981, GO:0031984, GO:0042175, GO:0043226, GO:0043227, GO:0043228, GO:0043229, GO:0043231, GO:0043232, GO:0043233, GO:0044422, GO:0044424, GO:0044425, GO:0044428, GO:0044429, GO:0044432, GO:0044444, GO:0044446, GO:0044464, GO:0070013, GO:0098588, GO:0098805, GO:0098827\"\r\n"
     ]
    }
   ],
   "source": [
    "!head ./UP000005640.goByGeneC"
   ]
  },
  {
   "cell_type": "code",
   "execution_count": 4,
   "metadata": {},
   "outputs": [],
   "source": [
    "good_labels = set(['GO:0005634',# nucleus\n",
    "'GO:0005576',# extracellular\n",
    "'GO:0005829',# cytosol\n",
    "'GO:0005856',# cytoskeleton\n",
    "'GO:0005739',# mitochondrion\n",
    "'GO:0005886',# cell_membrane\n",
    "'GO:0005783',# endoplasmic_reticulum\n",
    "'GO:0005794',# golgi_apparatus\n",
    "'GO:0005773',# vacuole\n",
    "'GO:0005777',# peroxysome\n",
    "              ])"
   ]
  },
  {
   "cell_type": "code",
   "execution_count": 5,
   "metadata": {},
   "outputs": [],
   "source": [
    "X = [] # sequence strings\n",
    "Y = [] # list of labels for each sequence\n",
    "all_y = set() # all the labels collected from the dataset\n",
    "with open('./UP000005640.goByGeneC') as inp:\n",
    "    inp.readline() # header\n",
    "    for line in inp:\n",
    "        tokens = map(lambda x: x.strip('\"'), line.split(' ',2))\n",
    "        \n",
    "        object_labels = [t.strip().strip('\"') for t in tokens[2].split(',') if len(t.strip())>0 and t.strip]\n",
    "        object_labels = [y for y in object_labels if y in good_labels]\n",
    "        if len(object_labels)==1:\n",
    "            X.append(tokens[1])\n",
    "            Y.append(object_labels)\n",
    "            all_y = all_y.union(set(Y[-1]))"
   ]
  },
  {
   "cell_type": "code",
   "execution_count": 6,
   "metadata": {},
   "outputs": [
    {
     "name": "stdout",
     "output_type": "stream",
     "text": [
      "example of X ['MASPALAAALAVAAAAGPNASGAGERGSGGVANASGASWGPPRGQYSAGAVAGLAAVVGFLIVFTVVGNVLVVIAVLTSRALRAPQNLFLVSLASADILVATLVMPFSLANELMAYWYFGQVWCGVYLALDVLFCTSSIVHLCAISLDRYWSVTQAVEYNLKRTPRRVKATIVAVWLISAVISFPPLVSLYRQPDGAAYPQCGLNDETWYILSSCIGSFFAPCLIMGLVYARIYRVAKLRTRTLSEKRAPVGPDGASPTTENGLGAAAGAGENGHCAPPPADVEPDESSAAAERRRRRGALRRGGRRRAGAEGGAGGADGQGAGPGAAESGALTASRSPGPGGRLSRASSRSVEFFLSRRRRARSSVCRRKVAQAREKRFTFVLAVVMGVFVLCWFPFFFSYSLYGICREACQVPGPLFKFFFWIGYCNSSLNPVIYTVFNQDFRRSFKHILFRRRRRGFRQ', 'MTRALCSALRQALLLLAAAAELSPGLKCVCLLCDSSNFTCQTEGACWASVMLTNGKEQVIKSCVSLPELNAQVFCHSSNNVTKTECCFTDFCNNITLHLPTASPNAPKLGPMELAIIITVPVCLLSIAAMLTVWACQGRQCSYRKKKRPNVEEPLSECNLVNAGKTLKDLIYDVTASGSGSGLPLLVQRTIARTIVLQEIVGKGRFGEVWHGRWCGEDVAVKIFSSRDERSWFREAEIYQTVMLRHENILGFIAADNKDNGTWTQLWLVSEYHEQGSLYDYLNRNIVTVAGMIKLALSIASGLAHLHMEIVGTQGKPAIAHRDIKSKNILVKKCETCAIADLGLAVKHDSILNTIDIPQNPKVGTKRYMAPEMLDDTMNVNIFESFKRADIYSVGLVYWEIARRCSVGGIVEEYQLPYYDMVPSDPSIEEMRKVVCDQKFRPSIPNQWQSCEALRVMGRIMRECWYANGAARLTALRIKKTISQLCVKEDCKA', 'MAHRKLESVGSGMLDHRVRPGPVPHSQEPESEDMELPLEGYVPEGLELAALRPESPAPEEQECHNHSPDGDSSSDYVNNTSEEEDYDEGLPEEEEGITYYIRYCPEDDSYLEGMDCNGEEYLAHSAHPVDTDECQEAVEEWTDSAGPHPHGHEAEGSQDYPDGQLPIPEDEPSVLEAHDQEEDGHYCASKEGYQDYYPEEANGNTGASPYRLRRGDGDLEDQEEDIDQIVAEIKMSLSMTSITSASEASPEHGPEPGPEDSVEACPPIKASCSPSRHEARPKSLNLLPEAKHPGDPQRGFKPKTRTPEERLKWPHEQVCNGLEQPRKQQRSDLNGPVDNNNIPETKKVASFPSFVAVPGPCEPEDLIDGIIFAANYLGSTQLLSERNPSKNIRMMQAQEAVSRVKRMQKAAKIKKKANSEGDAQTLTEVDLFISTQRIKVLNADTQETMMDHALRTISYIADIGNIVVLMARRRMPRSASQDCIETTPGAQEGKKQYKMICHVFESEDAQLIAQSIGQAFSVAYQEFLRANGINPEDLSQKEYSDIINTQEMYNDDLIHFSNSENCKELQLEKHKGEILGVVVVESGWGSILPTVILANMMNGGPAARSGKLSIGDQIMSINGTSLVGLPLATCQGIIKGLKNQTQVKLNIVSCPPVTTVLIKRPDLKYQLGFSVQNGIICSLMRGGIAERGGVRVGHRIIEINGQSVVATAHEKIVQALSNSVGEIHMKTMPAAMFRLLTGQETPLYI']\n",
      "example of Y [['GO:0005886'], ['GO:0005886'], ['GO:0005886']]\n",
      "example of set of labels ['GO:0005856', 'GO:0005794', 'GO:0005783']\n",
      "total sequences 8938\n",
      "total labels 10\n"
     ]
    }
   ],
   "source": [
    "print 'example of X', X[:3]\n",
    "print 'example of Y', Y[:3]\n",
    "print 'example of set of labels', list(all_y)[:3]\n",
    "print 'total sequences', len(X)\n",
    "print 'total labels', len(all_y)"
   ]
  },
  {
   "cell_type": "code",
   "execution_count": 10,
   "metadata": {},
   "outputs": [],
   "source": [
    "def cv_iter(w2v_params):    \n",
    "    \"\"\"\n",
    "    one ieration of cross-validation\n",
    "    w2v_params is a dictionary with parameters of gensim.Word2Vec\n",
    "    \"\"\"\n",
    "    indices = range(len(X))\n",
    "    np.random.shuffle(indices)\n",
    "\n",
    "    Xtrain = np.array(X)[indices[:len(indices)/2]]\n",
    "    Ytrain = np.array(Y)[indices[:len(indices)/2]]\n",
    "    Xtest = np.array(X)[indices[len(indices)/2:]]\n",
    "    Ytest = np.array(Y)[indices[len(indices)/2:]]\n",
    "    # split all the strings into lists for word2vec traing\n",
    "    Xtrain = [list(x) for x in Xtrain]\n",
    "    Xtest = [list(x) for x in Xtest]\n",
    "    model = Word2Vec(Xtrain, **w2v_params)\n",
    "    index = annoy.AnnoyIndex(w2v_params.get('size', 100)) # default value is 100 for gensim.Word2Vec\n",
    "    for i in range(len(Xtrain)):\n",
    "        v= np.mean([model[c] for c in Xtrain[i] if c in model], axis=0) # centroid\n",
    "        index.add_item(i, v)\n",
    "    index.build(100) # 100 is a number of trees in index, we can alibrate this value\n",
    "    predicted = []\n",
    "    for i in range(len(Xtest)):\n",
    "        v= np.mean([model[c] for c in Xtest[i] if c in model], axis=0)\n",
    "        id = index.get_nns_by_vector(v,1)[0] #  finding 1 nearest neighbour\n",
    "        predicted.append(id)\n",
    "    tp = 0\n",
    "    fp = 0\n",
    "    true_label_num = 0\n",
    "    for i in xrange(len(Xtest)):\n",
    "        true = set(Ytest[i])\n",
    "        true_label_num+=len(true)\n",
    "        pred = set(Ytrain[predicted[i]])\n",
    "        tp += len(true&pred)\n",
    "        fp += len(pred) - len(true&pred)\n",
    "\n",
    "    prec=tp*1.0/(tp+fp)\n",
    "    rec = tp*1.0/true_label_num\n",
    "    return prec, rec,  2 * prec * rec/ (prec+rec)\n",
    "    "
   ]
  },
  {
   "cell_type": "code",
   "execution_count": 8,
   "metadata": {},
   "outputs": [],
   "source": [
    "def cv(w2v_params = {}, cv_num = 5 ):\n",
    "    \"\"\"\n",
    "    Cross-validation function.\n",
    "    Returns list with precision, recall and F1 values\n",
    "    \"\"\"\n",
    "    precs, recs, fs = [],[],[]\n",
    "    for _ in range(cv_num):\n",
    "        p,r,f = cv_iter(w2v_params)\n",
    "        precs.append(p)\n",
    "        recs.append(r)\n",
    "        fs.append(f)\n",
    "    return precs, recs, fs"
   ]
  },
  {
   "cell_type": "code",
   "execution_count": 11,
   "metadata": {},
   "outputs": [
    {
     "data": {
      "text/plain": [
       "(0.500738420228239, 0.500738420228239, 0.500738420228239)"
      ]
     },
     "execution_count": 11,
     "metadata": {},
     "output_type": "execute_result"
    }
   ],
   "source": [
    "p,r,f = cv()\n",
    "np.mean(p), np.mean(r), np.mean(f)"
   ]
  },
  {
   "cell_type": "code",
   "execution_count": 12,
   "metadata": {},
   "outputs": [
    {
     "data": {
      "text/plain": [
       "(0.44036697247706413, 0.44036697247706413, 0.44036697247706424)"
      ]
     },
     "execution_count": 12,
     "metadata": {},
     "output_type": "execute_result"
    }
   ],
   "source": [
    "p,r,f = cv(w2v_params={'size':5})\n",
    "np.mean(p), np.mean(r), np.mean(f)"
   ]
  },
  {
   "cell_type": "code",
   "execution_count": 36,
   "metadata": {},
   "outputs": [],
   "source": [
    "def cv_iter(w2v_params, classifier):    \n",
    "    \"\"\"\n",
    "    one ieration of cross-validation\n",
    "    w2v_params is a dictionary with parameters of gensim.Word2Vec\n",
    "    \"\"\"\n",
    "    indices = range(len(X))\n",
    "    np.random.shuffle(indices)\n",
    "\n",
    "    Xtrain = np.array(X)[indices[:len(indices)/2]]\n",
    "    Ytrain = np.array(Y)[indices[:len(indices)/2]]\n",
    "    Xtest = np.array(X)[indices[len(indices)/2:]]\n",
    "    Ytest = np.array(Y)[indices[len(indices)/2:]]\n",
    "    # split all the strings into lists for word2vec traing\n",
    "    Xtrain = [list(x) for x in Xtrain]\n",
    "    Xtest = [list(x) for x in Xtest]\n",
    "    model = Word2Vec(Xtrain, **w2v_params)\n",
    "    Xtrain2 = []    \n",
    "    for i in range(len(Xtrain)):\n",
    "        v= np.mean([model[c] for c in Xtrain[i] if c in model], axis=0) # centroid\n",
    "        Xtrain2.append(v)\n",
    "    Xtrain2 = np.array(Xtrain2)\n",
    "    \n",
    "    Xtest2 = []    \n",
    "    for i in range(len(Xtest)):\n",
    "        v= np.mean([model[c] for c in Xtest[i] if c in model], axis=0) # centroid\n",
    "        Xtest2.append(v)\n",
    "    Xtest2 = np.array(Xtest2)\n",
    "    \n",
    "    good_labels_idx = list(good_labels)\n",
    "    Ytrain2 = np.array([good_labels_idx.index(str(y[0])) for y in Ytrain])\n",
    "    Ytest2 = np.array([good_labels_idx.index(str(y[0])) for y in Ytest])\n",
    "    cl = classifier()\n",
    "    print 'fit'\n",
    "    cl.fit(Xtrain2, Ytrain2)\n",
    "    print 'ready'\n",
    "    predicted = cl.predict(Xtest2)\n",
    "    print predicted[:10]\n",
    "    print Ytest2[:10]\n",
    "    tp = 0\n",
    "    fp = 0\n",
    "    true_label_num = 0\n",
    "    for i in xrange(len(Xtest2)):        \n",
    "        true_label_num+=1\n",
    "        pred = (Ytest2[i] ==  predicted[i])\n",
    "        if pred:\n",
    "            tp+=1\n",
    "        else:\n",
    "            fp+=1\n",
    "        \n",
    "    prec=tp*1.0/(tp+fp)\n",
    "    rec = tp*1.0/true_label_num\n",
    "    return prec, rec,  2 * prec * rec/ (prec+rec)\n",
    "\n",
    "def cv(w2v_params = {}, cv_num = 5, classifier=None ):\n",
    "    \"\"\"\n",
    "    Cross-validation function.\n",
    "    Returns list with precision, recall and F1 values\n",
    "    \"\"\"\n",
    "    precs, recs, fs = [],[],[]\n",
    "    for _ in range(cv_num):\n",
    "        p,r,f = cv_iter(w2v_params, classifier)\n",
    "        precs.append(p)\n",
    "        recs.append(r)\n",
    "        fs.append(f)\n",
    "    return precs, recs, fs"
   ]
  },
  {
   "cell_type": "code",
   "execution_count": 29,
   "metadata": {},
   "outputs": [
    {
     "data": {
      "text/plain": [
       "(0.5204743790557173, 0.5204743790557173, 0.5204743790557173)"
      ]
     },
     "execution_count": 29,
     "metadata": {},
     "output_type": "execute_result"
    }
   ],
   "source": [
    "from sklearn.linear_model import LogisticRegression\n",
    "p,r,f = cv(w2v_params={'size':5}, classifier=LogisticRegression)\n",
    "np.mean(p), np.mean(r), np.mean(f)"
   ]
  },
  {
   "cell_type": "code",
   "execution_count": 30,
   "metadata": {},
   "outputs": [
    {
     "data": {
      "text/plain": [
       "(0.4263146117699709, 0.4263146117699709, 0.4263146117699709)"
      ]
     },
     "execution_count": 30,
     "metadata": {},
     "output_type": "execute_result"
    }
   ],
   "source": [
    "from sklearn.tree import DecisionTreeClassifier\n",
    "p,r,f = cv(w2v_params={'size':5}, classifier=DecisionTreeClassifier)\n",
    "np.mean(p), np.mean(r), np.mean(f)"
   ]
  },
  {
   "cell_type": "code",
   "execution_count": 31,
   "metadata": {},
   "outputs": [
    {
     "name": "stderr",
     "output_type": "stream",
     "text": [
      "/usr/local/lib/python2.7/dist-packages/sklearn/ensemble/forest.py:246: FutureWarning: The default value of n_estimators will change from 10 in version 0.20 to 100 in 0.22.\n",
      "  \"10 in version 0.20 to 100 in 0.22.\", FutureWarning)\n"
     ]
    },
    {
     "data": {
      "text/plain": [
       "(0.5077646005817856, 0.5077646005817856, 0.5077646005817856)"
      ]
     },
     "execution_count": 31,
     "metadata": {},
     "output_type": "execute_result"
    }
   ],
   "source": [
    "from sklearn.ensemble import RandomForestClassifier\n",
    "p,r,f = cv(w2v_params={'size':5}, classifier=RandomForestClassifier)\n",
    "np.mean(p), np.mean(r), np.mean(f)"
   ]
  },
  {
   "cell_type": "code",
   "execution_count": 32,
   "metadata": {},
   "outputs": [
    {
     "data": {
      "text/plain": [
       "(0.5583351980308795, 0.5583351980308795, 0.5583351980308795)"
      ]
     },
     "execution_count": 32,
     "metadata": {},
     "output_type": "execute_result"
    }
   ],
   "source": [
    "from sklearn.ensemble import RandomForestClassifier\n",
    "p,r,f = cv( classifier=RandomForestClassifier)\n",
    "np.mean(p), np.mean(r), np.mean(f)"
   ]
  },
  {
   "cell_type": "code",
   "execution_count": 39,
   "metadata": {},
   "outputs": [
    {
     "name": "stdout",
     "output_type": "stream",
     "text": [
      "fit\n",
      "ready\n",
      "[8 8 4 4 4 8 8 8 4 8]\n",
      "[9 8 2 7 4 9 9 2 8 8]\n",
      "fit\n",
      "ready\n",
      "[8 4 4 4 8 4 4 8 8 8]\n",
      "[2 4 8 9 8 4 0 7 8 8]\n",
      "fit\n",
      "ready\n",
      "[4 4 4 4 4 4 4 4 8 4]\n",
      "[9 8 4 9 7 4 1 6 7 9]\n",
      "fit\n",
      "ready\n",
      "[4 4 4 8 4 4 4 4 4 4]\n",
      "[4 0 6 8 0 4 7 4 9 7]\n",
      "fit\n",
      "ready\n",
      "[8 8 4 8 4 8 4 4 4 8]\n",
      "[8 1 4 4 4 2 6 4 8 9]\n"
     ]
    },
    {
     "data": {
      "text/plain": [
       "(0.5325576191541732, 0.5325576191541732, 0.5325576191541732)"
      ]
     },
     "execution_count": 39,
     "metadata": {},
     "output_type": "execute_result"
    }
   ],
   "source": [
    "from sklearn.svm import SVC\n",
    "p,r,f = cv(w2v_params={'size':5}, classifier=SVC)\n",
    "np.mean(p), np.mean(r), np.mean(f)"
   ]
  },
  {
   "cell_type": "code",
   "execution_count": 41,
   "metadata": {},
   "outputs": [
    {
     "name": "stdout",
     "output_type": "stream",
     "text": [
      "fit\n",
      "ready\n",
      "[4 4 4 4 4 4 4 8 4 4]\n",
      "[7 6 2 4 4 4 7 8 6 9]\n",
      "fit\n",
      "ready\n",
      "[8 4 4 4 8 8 4 4 4 8]\n",
      "[8 9 8 8 6 8 1 4 4 1]\n",
      "fit\n",
      "ready\n",
      "[4 4 4 8 4 4 4 4 4 4]\n",
      "[4 4 4 7 8 4 4 6 8 1]\n",
      "fit\n",
      "ready\n",
      "[4 4 8 8 4 4 4 4 4 8]\n",
      "[6 4 8 8 8 4 8 4 1 8]\n",
      "fit\n",
      "ready\n",
      "[8 4 4 4 8 4 4 4 4 4]\n",
      "[3 8 4 0 8 4 4 4 4 4]\n"
     ]
    },
    {
     "data": {
      "text/plain": [
       "(0.4983665249496531, 0.4983665249496531, 0.4983665249496531)"
      ]
     },
     "execution_count": 41,
     "metadata": {},
     "output_type": "execute_result"
    }
   ],
   "source": [
    "from sklearn.svm import SVC\n",
    "p,r,f = cv(classifier=SVC)\n",
    "np.mean(p), np.mean(r), np.mean(f)"
   ]
  },
  {
   "cell_type": "code",
   "execution_count": 47,
   "metadata": {},
   "outputs": [
    {
     "data": {
      "text/plain": [
       "Counter({'GO:0005576': 1161,\n",
       "         'GO:0005634': 3224,\n",
       "         'GO:0005739': 600,\n",
       "         'GO:0005773': 53,\n",
       "         'GO:0005777': 18,\n",
       "         'GO:0005783': 416,\n",
       "         'GO:0005794': 235,\n",
       "         'GO:0005829': 677,\n",
       "         'GO:0005856': 363,\n",
       "         'GO:0005886': 2191})"
      ]
     },
     "execution_count": 47,
     "metadata": {},
     "output_type": "execute_result"
    }
   ],
   "source": [
    "from collections import Counter\n",
    "Counter([y[0] for y in Y])"
   ]
  }
 ],
 "metadata": {
  "kernelspec": {
   "display_name": "Python 2",
   "language": "python",
   "name": "python2"
  },
  "language_info": {
   "codemirror_mode": {
    "name": "ipython",
    "version": 2
   },
   "file_extension": ".py",
   "mimetype": "text/x-python",
   "name": "python",
   "nbconvert_exporter": "python",
   "pygments_lexer": "ipython2",
   "version": "2.7.14"
  }
 },
 "nbformat": 4,
 "nbformat_minor": 2
}
