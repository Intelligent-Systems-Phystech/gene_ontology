{
 "cells": [
  {
   "cell_type": "markdown",
   "metadata": {},
   "source": [
    "Experiment with dpseg segmentation.\n",
    "5-fold validation."
   ]
  },
  {
   "cell_type": "code",
   "execution_count": 1,
   "metadata": {},
   "outputs": [],
   "source": [
    "from gensim.models import Word2Vec\n",
    "import annoy # fast approximate KNN\n",
    "import numpy as np\n",
    "from collections import Counter"
   ]
  },
  {
   "cell_type": "code",
   "execution_count": 2,
   "metadata": {},
   "outputs": [
    {
     "name": "stdout",
     "output_type": "stream",
     "text": [
      "gene seq annot\r\n",
      "\"P32317\" \"MIALKPNAVRTFRQVQHCSFRICRYQSTKSNKCLTPLQEYDRLVKLGKLRDDTYQRGIISSLGDLYDSLVKYVPPVVKTPNAVDQVGGWLNGLKSVFSRGKPKNIGAYVDVSKIGNSIPRGVYLYGDVGCGKTMLMDLFYTTIPNHLTKKRIHFHQFMQYVHKRSHEIVREQNLKELGDAKGKEIDTVPFLAAEIANNSHVLCFDEFQVTDVADAMILRRLMTALLSDDYGVVLFATSNRHPDELYINGVQRQSFIPCIELIKHRTKVIFLNSPTDYRKIPRPVSSVYYFPSDTSIKYASKECKTRRETHIKEWYNYFAQASHTDDSTDSHTVHKTFYDYPLTIWGREFKVPKCTPPRVAQFTFKQLCGEPLAAGDYLTLAKNFEAFIVTDIPYLSIYVRDEVRRFITFLDAVYDSGGKLATTGAADFSSLFVEPEQILNDFELRPTTKEPDSVDTGMVDEMVEKHGFSKEIAKKSQMFALDEERFAFARALSRLSQMSSTDWVTKPTY\" \"GO:0005575, GO:0005622, GO:0005623, GO:0005737, GO:0005739, GO:0043226, GO:0043227, GO:0043229, GO:0043231, GO:0044424, GO:0044444, GO:0044464\"\r\n",
      "\"P87275\" \"MIEEKKELKKRRVLQMARFYGAAAFTLITMRLISRAIKVRKYVPSIFQQNYKLPPFSQRNEAMSALTYASAASIGTFSTLIFGFCWALDISTAREFVFKTREFMSLPQALETDTSMDEETSKLTKQLQDLLSSENNK\" \"GO:0005575, GO:0005622, GO:0005623, GO:0005737, GO:0005739, GO:0043226, GO:0043227, GO:0043229, GO:0043231, GO:0044424, GO:0044444, GO:0044464\"\r\n",
      "\"P39010\" \"MVNELENVPRASTLTNEEQTVDPSNNDSQEDISLGDSNEITSLASLKAIRSGNEEESGNEQVNHNDEAEEDPLLTRYHTACQRGDLATVKEMIHGKLLEVNNDGDSTEHITGLHWASINNRLSVVDFLVSQGADVNARAGALHATPLHWAARYGYVYIVDFLLKHGADPTMTDDQGFNLLHLSVNSSNIMLVLYVLFNVVSKGLLDIDCRDPKGRTSLLWAAYQGDSLTVAELLKFGASIKIADTEGFTPLHWGTVKGQPHVLKYLIQDGADFFQKTDTGKDCFAIAQEMNTVYSLREALTHSGFDYHGYPIKKWFKKSQHAKLVTFITPFLFLGIAFALFSHINPLFVIIVLFLLAIATNKGLNKFVLPSYGRMGVHNVTLLRSPLLSGVFFGTLLWVTIVWFFKVMPRTFSDEQYTNILMLVILVSVFYLFGQLVIMDPGCLPEETDHENVRQTISNLLEIGKFDTKNFCIETWIRKPLRSKFSPLNNAVVARFDHYCPWIFNDVGLKNHKAFIFFITLMESGIFTFLALCLEYFDELEDAHEDTSQKNGKCFILGASDLCSGLIYDRFVFLILLWALLQSIWVASLIFVQAFQICKGMTNTEFNVLMKESKSIGPDGLSFNENFNTTPEGFAPSIDPGEESNDTVLAPVPGSTIRKPRTCFGVCYAVTGMDQWLAVIKETIGIKDSTGHNVYSITSRIPTNYGWKRNVKDFWLTSDINAPLWRRILYPPSGSKALLNGIEVDYFKLYKLPNKDVEQGNDMV\" \"GO:0000139, GO:0005575, GO:0005622, GO:0005623, GO:0005737, GO:0005768, GO:0005769, GO:0005794, GO:0010008, GO:0012505, GO:0016020, GO:0016021, GO:0031090, GO:0031224, GO:0031410, GO:0031901, GO:0031982, GO:0031984, GO:0043226, GO:0043227, GO:0043229, GO:0043231, GO:0044422, GO:0044424, GO:0044425, GO:0044431, GO:0044433, GO:0044440, GO:0044444, GO:0044446, GO:0044464, GO:0097708, GO:0098588, GO:0098791, GO:0098805\"\r\n",
      "\"P54783\" \"MSTIPFRKNYVFKNWAGIYSAKPERYFQPSSIDEVVELVKSARLAEKSLVTVGSGHSPSNMCVTDEWLVNLDRLDKVQKFVEYPELHYADVTVDAGMRLYQLNEFLGAKGYSIQNLGSISEQSVAGIISTGSHGSSPYHGLISSQYVNLTIVNGKGELKFLDAENDPEVFKAALLSVGKIGIIVSATIRVVPGFNIKSTQEVITFENLLKQWDTLWTSSEFIRVWWYPYTRKCVLWRGNKTTDAQNGPAKSWWGTKLGRFFYETLLWISTKIYAPLTPFVEKFVFNRQYGKLEKSSTGDVNVTDSISGFNMDCLFSQFVDEWGCPMDNGLEVLRSLDHSIAQAAINKEFYVHVPMEVRCSNTTLPSEPLDTSKRTNTSPGPVYGNVCRPFLDNTPSHCRFAPLENVTNSQLTLYINATIYRPFGCNTPIHKWFTLFENTMMVAGGKPHWAKNFLGSTTLAAGPVKKDTDYDDFEMRGMALKVEEWYGEDLKKFRKIRKEQDPDNVFLANKQWAIINGIIDPSELSD\" \"GO:0005575, GO:0005622, GO:0005623, GO:0005737, GO:0005739, GO:0005740, GO:0005741, GO:0016020, GO:0019867, GO:0031090, GO:0031966, GO:0031967, GO:0031968, GO:0031975, GO:0043226, GO:0043227, GO:0043229, GO:0043231, GO:0044422, GO:0044424, GO:0044429, GO:0044444, GO:0044446, GO:0044464, GO:0098588, GO:0098805\"\r\n",
      "\"P14904\" \"MEEQREILEQLKKTLQMLTVEPSKNNQIANEEKEKKENENSWCILEHNYEDIAQEFIDFIYKNPTTYHVVSFFAELLDKHNFKYLSEKSNWQDSIGEDGGKFYTIRNGTNLSAFILGKNWRAEKGVGVIGSHVDALTVKLKPVSFKDTAEGYGRIAVAPYGGTLNELWLDRDLGIGGRLLYKKKGTNEIKSALVDSTPLPVCRIPSLAPHFGKPAEGPFDKEDQTIPVIGFPTPDEEGNEPPTDDEKKSPLFGKHCIHLLRYVAKLAGVEVSELIQMDLDLFDVQKGTIGGIGKHFLFAPRLDDRLCSFAAMIALICYAKDVNTEESDLFSTVTLYDNEEIGSLTRQGAKGGLLESVVERSSSAFTKKPVDLHTVWANSIILSADVNHLYNPNFPEVYLKNHFPVPNVGITLSLDPNGHMATDVVGTALVEELARRNGDKVQYFQIKNNSRSGGTIGPSLASQTGARTIDLGIAQLSMHSIRAATGSKDVGLGVKFFNGFFKHWRSVYDEFGEL\" \"GO:0000322, GO:0000323, GO:0000324, GO:0005575, GO:0005576, GO:0005622, GO:0005623, GO:0005737, GO:0005773, GO:0032991, GO:0034270, GO:0043226, GO:0043227, GO:0043229, GO:0043231, GO:0044424, GO:0044444, GO:0044464\"\r\n",
      "\"Q12354\" \"MNGLRVAAKIQPARQTIIFLHGLGDTGSGWGFLAQYLQQRDPAAFQHTNFVFPNAPELHVTANGGALMPAWFDILEWDPSFSKVDSDGFMNSLNSIEKTVKQEIDKGIKPEQIIIGGFSQGAALALATSVTLPWKIGGIVALSGFCSIPGILKQHKNGINVKTPIFHGHGDMDPVVPIGLGIKAKQFYQDSCEIQNYEFKVYKGMAHSTVPDELEDLASFIKKSLSS\" \"GO:0005575, GO:0005622, GO:0005623, GO:0005634, GO:0005737, GO:0043226, GO:0043227, GO:0043229, GO:0043231, GO:0044424, GO:0044464\"\r\n",
      "\"P53629\" \"MDKKKDLLENEQFLRIQKLNAADAGKRQSITVDDEGELYGLDTSGNSPANEHTATTITQNHSVVASNGDVAFIPGTATEGNTEIVTEEVIETDDNMFKTHVKTLSSKEKARYRQGSSNFISYFDDMSFEHRPSILDGSVNEPFKTKFVGPTLEKEIRRREKELMAMRKNLHHRKSSPDAVDSVGKNDGAAPTTVPTAATSETVVTVETTIISSNFSGLYVAFWMAIAFGAVKALIDYYYQHNGSFKDSEILKFMTTNLFTVASVDLLMYLSTYFVVGIQYLCKWGVLKWGTTGWIFTSIYEFLFVIFYMYLTENILKLHWLSKIFLFLHSLVLLMKMHSFAFYNGYLWGIKEELQFSKSALAKYKDSINDPKVIGALEKSCEFCSFELSSQSLSDQTQKFPNNISAKSFFWFTMFPTLIYQIEYPRTKEIRWSYVLEKICAIFGTIFLMMIDAQILMYPVAMRALAVRNSEWTGILDRLLKWVGLLVDIVPGFIVMYILDFYLIWDAILNCVAELTRFGDRYFYGDWWNCVSWADFSRIWNIPVHKFLLRHVYHSSMSSFKLNKSQATLMTFFLSSVVHELAMYVIFKKLRFYLFFFQMLQMPLVALTNTKFMRNRTIIGNVIFWLGICMGPSVMCTLYLTF\" \"GO:0005575, GO:0005622, GO:0005623, GO:0005737, GO:0005783, GO:0005789, GO:0012505, GO:0016020, GO:0016021, GO:0031224, GO:0031984, GO:0042175, GO:0043226, GO:0043227, GO:0043229, GO:0043231, GO:0044422, GO:0044424, GO:0044425, GO:0044432, GO:0044444, GO:0044446, GO:0044464, GO:0098827\"\r\n",
      "\"P53946\" \"MSSRDASLTPLKAVVIDDPPLRQTPEPFDEQSAYNPQSPIAIDFGSSKLRAGFVNHATPTHIFPNALTKFRDRKLNKNFTFVGNDTLLDQAVRSQSRSPFDGPFVTNWNLTEEILDYTFHHLGVVPDNGIPNPILLTERLATVQSQRTNWYQILFETYNVPGVTFGIDSLFSFYNYNPSGNKTGLVISCGHEDTNVIPVVDGAGILTDAKRINWGGHQAVDYLNDLMALKYPYFPTKMSYLQYETMYKDYCYVSRNYDEDIEKILTLENLDTNDVVVEAPFTEVLQPQKTEEELRIQAEKRKETGKRLQEQARLKRMEKLVQKQEEFEYFSKVRDQLIDEPKKKVLSVLQNAGFDDERDFKKYLHSLEQSLKKAQMVEAEDDSHLDEMNEDKTAQKFDLLDIADEDLNEDQIKEKRKQRFLKASQDARQKAKEEKERVAKEEEEKKLKEQQWRETDLNGWIKDKRLKLNKLIKRRKEKLKLRDEMKDRKSQVSQNRMKNLASLAEDNVKQGAKRNRHQATIDNDPNDTFGANDEDWLIYTDITQNPEAFEEALEYEYKDIVELERLLLEHDPNFTEEDTLEAQYDWRNSILHLFLRGPRPHDSENIHEQHQMHLNVERIRVPEVIFQPTMGGQDQAGICELSETILLKKFGSQPGKLSQTSIDMVNNVLITGGNAKVPGLKERIVKEFTGFLPTGTNITVNMSSDPSLDAWKGMAALARNEEQYRKTVISKKEYEEYGPEYIKEHKLGNTKYFED\" \"GO:0000228, GO:0000785, GO:0000790, GO:0005575, GO:0005622, GO:0005623, GO:0005634, GO:0005694, GO:0005737, GO:0031011, GO:0031974, GO:0031981, GO:0032991, GO:0033202, GO:0043226, GO:0043227, GO:0043228, GO:0043229, GO:0043231, GO:0043232, GO:0043233, GO:0044422, GO:0044424, GO:0044427, GO:0044428, GO:0044446, GO:0044454, GO:0044464, GO:0070013, GO:0070603, GO:0097346, GO:1902494, GO:1904949\"\r\n",
      "\"P40518\" \"MEADWRRIDIDAFDPESGRLTAADLVPPYETTVTLQELQPRMNQLRSLATSGDSLGAVQLLTTDPPYSADAPTKEQYFKSVLEALTQVRQADIGNVIKNLSDSQRDVLVKYLYKGMSVPQGQKQGGVLLAWLERITQVSGVTPIVHYISDRRTV\" \"GO:0005575, GO:0005622, GO:0005623, GO:0005737, GO:0005739, GO:0005740, GO:0005741, GO:0005856, GO:0005885, GO:0005938, GO:0015629, GO:0016020, GO:0019867, GO:0019898, GO:0030479, GO:0030863, GO:0030864, GO:0031090, GO:0031312, GO:0031315, GO:0031966, GO:0031967, GO:0031968, GO:0031975, GO:0032991, GO:0043226, GO:0043227, GO:0043228, GO:0043229, GO:0043231, GO:0043232, GO:0044422, GO:0044424, GO:0044425, GO:0044429, GO:0044430, GO:0044444, GO:0044446, GO:0044448, GO:0044455, GO:0044464, GO:0061645, GO:0071944, GO:0098588, GO:0098805, GO:0099568\"\r\n"
     ]
    }
   ],
   "source": [
    "!head ./UP000002311.goByGeneC"
   ]
  },
  {
   "cell_type": "code",
   "execution_count": 3,
   "metadata": {},
   "outputs": [],
   "source": [
    "good_labels = set(['GO:0005634',# nucleus\n",
    "'GO:0005576',# extracellular\n",
    "'GO:0005829',# cytosol\n",
    "'GO:0005856',# cytoskeleton\n",
    "'GO:0005739',# mitochondrion\n",
    "'GO:0005886',# cell_membrane\n",
    "'GO:0005783',# endoplasmic_reticulum\n",
    "'GO:0005794',# golgi_apparatus\n",
    "'GO:0005773',# vacuole\n",
    "'GO:0005777',# peroxysome\n",
    "              ])"
   ]
  },
  {
   "cell_type": "code",
   "execution_count": 4,
   "metadata": {},
   "outputs": [],
   "source": [
    "X = [] # sequence strings\n",
    "Y = [] # list of labels for each sequence\n",
    "all_y = set() # all the labels collected from the dataset\n",
    "with open('./UP000002311.goByGeneC') as inp:\n",
    "    with open('../dpseg-1.2.1/myout.words') as inp2:\n",
    "        inp.readline() # header\n",
    "        for line, line2 in zip(inp,inp2):\n",
    "            tokens = map(lambda x: x.strip('\"'), line.split(' ',2))\n",
    "\n",
    "            object_labels = [t.strip().strip('\"') for t in tokens[2].split(',') if len(t.strip())>0 and t.strip]\n",
    "            object_labels = [y for y in object_labels if y in good_labels]\n",
    "            if len(object_labels)>=1:\n",
    "                X.append(line2.strip().split())\n",
    "                Y.append(object_labels)\n",
    "                all_y = all_y.union(set(Y[-1]))"
   ]
  },
  {
   "cell_type": "code",
   "execution_count": 5,
   "metadata": {},
   "outputs": [
    {
     "name": "stdout",
     "output_type": "stream",
     "text": [
      "example of X [['M', 'IA', 'L', 'K', 'PN', 'A', 'V', 'RT', 'FR', 'Q', 'VQ', 'HC', 'S', 'FR', 'I', 'C', 'R', 'YQ', 'STK', 'SN', 'KC', 'LTP', 'LQE', 'Y', 'DRL', 'VK', 'L', 'G', 'KLR', 'DD', 'TY', 'Q', 'R', 'G', 'II', 'SS', 'LG', 'DL', 'YD', 'SL', 'V', 'KY', 'V', 'P', 'P', 'VV', 'K', 'TP', 'N', 'AV', 'D', 'Q', 'V', 'G', 'G', 'W', 'LN', 'G', 'L', 'K', 'SV', 'F', 'SR', 'G', 'K', 'PK', 'N', 'IG', 'A', 'Y', 'V', 'DV', 'SK', 'IG', 'N', 'SI', 'P', 'RG', 'VY', 'L', 'Y', 'GD', 'V', 'GCG', 'KT', 'M', 'L', 'MD', 'LF', 'YT', 'T', 'IP', 'N', 'HL', 'TK', 'KR', 'IH', 'F', 'H', 'QF', 'M', 'QY', 'VH', 'K', 'RS', 'H', 'EI', 'V', 'R', 'E', 'Q', 'N', 'LKEL', 'GD', 'A', 'K', 'G', 'K', 'EI', 'D', 'T', 'V', 'PFL', 'AAE', 'I', 'AN', 'NS', 'HV', 'L', 'C', 'F', 'DEF', 'Q', 'V', 'T', 'DV', 'AD', 'A', 'M', 'IL', 'RRL', 'M', 'T', 'A', 'L', 'LS', 'D', 'D', 'YG', 'VV', 'L', 'F', 'A', 'TS', 'N', 'R', 'HPD', 'E', 'LY', 'IN', 'G', 'V', 'QRQ', 'SF', 'IP', 'CI', 'ELI', 'K', 'HR', 'TKV', 'IF', 'LN', 'SPT', 'DY', 'RKI', 'PR', 'P', 'V', 'SSV', 'Y', 'Y', 'FP', 'S', 'D', 'TS', 'IK', 'Y', 'AS', 'KE', 'C', 'KT', 'RR', 'E', 'T', 'HI', 'K', 'EW', 'Y', 'N', 'YF', 'A', 'Q', 'A', 'S', 'H', 'T', 'DDS', 'T', 'DS', 'HT', 'VH', 'K', 'TF', 'YD', 'Y', 'PL', 'TI', 'W', 'GR', 'E', 'F', 'K', 'VP', 'KC', 'TPP', 'R', 'V', 'A', 'Q', 'FT', 'F', 'KQL', 'CG', 'EP', 'L', 'AAG', 'DYL', 'T', 'L', 'A', 'KNF', 'E', 'A', 'FI', 'V', 'TD', 'IP', 'YL', 'S', 'I', 'Y', 'VR', 'DE', 'VR', 'RF', 'I', 'TF', 'LD', 'A', 'V', 'Y', 'D', 'SG', 'GKL', 'A', 'T', 'TGA', 'A', 'DF', 'S', 'SL', 'FV', 'EP', 'EQI', 'LND', 'F', 'EL', 'R', 'P', 'T', 'TKE', 'PD', 'S', 'VD', 'TG', 'M', 'VD', 'E', 'M', 'VEK', 'H', 'G', 'FSK', 'E', 'I', 'AK', 'KS', 'Q', 'MF', 'AL', 'DEE', 'RF', 'AF', 'AR', 'A', 'L', 'S', 'R', 'LS', 'Q', 'M', 'SS', 'T', 'DW', 'V', 'TK', 'P', 'TY'], ['M', 'IE', 'EK', 'KEL', 'K', 'K', 'R', 'RV', 'LQ', 'MA', 'RF', 'Y', 'G', 'AAA', 'F', 'T', 'L', 'I', 'T', 'MR', 'LIS', 'R', 'AI', 'KVR', 'KY', 'VP', 'SI', 'FQ', 'QN', 'YK', 'LPP', 'FS', 'Q', 'RN', 'EA', 'M', 'S', 'AL', 'TY', 'A', 'SAA', 'SI', 'G', 'TF', 'STL', 'IF', 'GF', 'CW', 'A', 'LD', 'IS', 'TA', 'R', 'EFV', 'FK', 'T', 'REF', 'MS', 'LP', 'QA', 'LE', 'TD', 'T', 'S', 'M', 'DEE', 'T', 'S', 'K', 'L', 'TK', 'Q', 'LQ', 'D', 'LL', 'S', 'S', 'EN', 'NK'], ['M', 'V', 'N', 'E', 'L', 'EN', 'VP', 'R', 'AST', 'L', 'T', 'NE', 'EQ', 'T', 'VD', 'PS', 'NND', 'SQ', 'ED', 'IS', 'LGD', 'S', 'N', 'EI', 'TS', 'LAS', 'LK', 'A', 'I', 'R', 'S', 'GN', 'EEE', 'SG', 'N', 'EQ', 'VN', 'HN', 'D', 'EA', 'E', 'ED', 'PL', 'L', 'TR', 'Y', 'H', 'T', 'AC', 'QR', 'G', 'D', 'LA', 'TV', 'K', 'E', 'M', 'I', 'HG', 'K', 'L', 'LE', 'V', 'NND', 'GD', 'ST', 'EH', 'IT', 'G', 'L', 'HW', 'A', 'S', 'INN', 'R', 'LS', 'VV', 'DF', 'LVS', 'QG', 'AD', 'VN', 'ARA', 'G', 'AL', 'H', 'A', 'TP', 'L', 'HW', 'AA', 'R', 'YG', 'YV', 'YI', 'VD', 'F', 'L', 'L', 'KH', 'GA', 'DPT', 'MT', 'DD', 'Q', 'GF', 'NLL', 'H', 'LS', 'VN', 'S', 'SNI', 'M', 'LV', 'LY', 'VL', 'F', 'N', 'VVS', 'KG', 'L', 'LDI', 'DC', 'R', 'D', 'PK', 'G', 'R', 'T', 'S', 'LL', 'W', 'A', 'A', 'Y', 'QG', 'DS', 'L', 'T', 'VA', 'E', 'L', 'L', 'K', 'FG', 'AS', 'I', 'KI', 'A', 'DT', 'E', 'GF', 'T', 'PL', 'H', 'W', 'G', 'TV', 'K', 'GQ', 'PH', 'VL', 'KY', 'LIQ', 'D', 'G', 'AD', 'F', 'FQ', 'K', 'TD', 'TGK', 'D', 'CF', 'AI', 'A', 'QE', 'MN', 'TV', 'YS', 'L', 'R', 'EA', 'L', 'T', 'HS', 'G', 'FD', 'Y', 'HG', 'YP', 'I', 'K', 'K', 'WF', 'KK', 'SQ', 'H', 'A', 'K', 'L', 'V', 'T', 'F', 'IT', 'P', 'F', 'LF', 'L', 'GIA', 'FA', 'LFS', 'HI', 'N', 'P', 'LF', 'VI', 'IV', 'L', 'F', 'LL', 'A', 'I', 'A', 'TN', 'K', 'GL', 'N', 'K', 'F', 'VL', 'PS', 'Y', 'G', 'R', 'MG', 'VH', 'NV', 'T', 'L', 'LR', 'S', 'PL', 'LS', 'GV', 'F', 'FG', 'T', 'L', 'LW', 'V', 'T', 'I', 'V', 'WF', 'F', 'KV', 'MP', 'R', 'T', 'F', 'S', 'DE', 'Q', 'YT', 'NIL', 'M', 'L', 'V', 'I', 'L', 'VS', 'V', 'FY', 'L', 'F', 'G', 'QL', 'VI', 'MD', 'P', 'G', 'CL', 'P', 'EE', 'T', 'D', 'HE', 'NV', 'RQ', 'TIS', 'NL', 'L', 'E', 'I', 'G', 'KF', 'D', 'T', 'KN', 'F', 'C', 'IE', 'TW', 'I', 'R', 'KP', 'L', 'R', 'SK', 'FS', 'P', 'LN', 'NA', 'VVA', 'RF', 'D', 'HY', 'CPW', 'IFN', 'DV', 'GL', 'K', 'N', 'H', 'K', 'AF', 'I', 'F', 'FI', 'T', 'L', 'M', 'ES', 'GI', 'F', 'T', 'FL', 'AL', 'C', 'LE', 'YF', 'DE', 'LED', 'A', 'HE', 'DT', 'S', 'Q', 'KN', 'GK', 'CF', 'IL', 'GA', 'S', 'DL', 'CS', 'GL', 'IYD', 'R', 'F', 'VF', 'LI', 'L', 'LW', 'A', 'LLQ', 'S', 'IW', 'VA', 'SL', 'IF', 'VQ', 'AF', 'Q', 'IC', 'K', 'G', 'M', 'TN', 'TE', 'FN', 'VL', 'MK', 'ES', 'K', 'SI', 'G', 'P', 'D', 'G', 'L', 'S', 'F', 'NE', 'N', 'F', 'N', 'T', 'TPE', 'G', 'FA', 'PS', 'I', 'D', 'PG', 'EE', 'SN', 'D', 'TVL', 'A', 'PVP', 'GS', 'T', 'IRK', 'P', 'R', 'T', 'CF', 'G', 'V', 'C', 'Y', 'A', 'VTG', 'M', 'D', 'Q', 'WL', 'A', 'V', 'IK', 'E', 'T', 'IG', 'IK', 'D', 'ST', 'G', 'H', 'NV', 'YS', 'ITS', 'R', 'IP', 'T', 'NY', 'G', 'WKR', 'NV', 'K', 'D', 'FW', 'LTS', 'DI', 'N', 'AP', 'LW', 'R', 'RI', 'LYP', 'P', 'SGS', 'KAL', 'LN', 'GI', 'EV', 'D', 'YF', 'KL', 'Y', 'K', 'LP', 'N', 'K', 'DV', 'E', 'Q', 'G', 'ND', 'MV']]\n",
      "example of Y [['GO:0005739'], ['GO:0005739'], ['GO:0005794']]\n",
      "example of set of labels ['GO:0005856', 'GO:0005794', 'GO:0005783']\n",
      "total sequences 4552\n",
      "total labels 10\n"
     ]
    }
   ],
   "source": [
    "print 'example of X', X[:3]\n",
    "print 'example of Y', Y[:3]\n",
    "print 'example of set of labels', list(all_y)[:3]\n",
    "print 'total sequences', len(X)\n",
    "print 'total labels', len(all_y)"
   ]
  },
  {
   "cell_type": "code",
   "execution_count": 6,
   "metadata": {},
   "outputs": [],
   "source": [
    "def cv_iter(w2v_params, nn_num):    \n",
    "        \n",
    "    \"\"\"\n",
    "    one ieration of cross-validation\n",
    "    w2v_params is a dictionary with parameters of gensim.Word2Vec\n",
    "    \"\"\"\n",
    "    indices = range(len(X))\n",
    "    np.random.shuffle(indices)\n",
    "\n",
    "    Xtrain = np.array(X)[indices[:len(indices)/2]]\n",
    "    Ytrain = np.array(Y)[indices[:len(indices)/2]]\n",
    "    Xtest = np.array(X)[indices[len(indices)/2:]]\n",
    "    Ytest = np.array(Y)[indices[len(indices)/2:]]\n",
    "    # split all the strings into lists for word2vec traing\n",
    "    Xtrain = [list(x) for x in Xtrain]\n",
    "    Xtest = [list(x) for x in Xtest]\n",
    "    model = Word2Vec(Xtrain, **w2v_params)\n",
    "    index = annoy.AnnoyIndex(w2v_params.get('size', 100)) # default value is 100 for gensim.Word2Vec\n",
    "    for i in range(len(Xtrain)):\n",
    "        v= np.mean([model[c] for c in Xtrain[i] if c in model], axis=0) # centroid\n",
    "        if np.isnan(np.mean(v)):\n",
    "            continue\n",
    "        index.add_item(i, v)\n",
    "    index.build(100) # 100 is a number of trees in index, we can alibrate this value\n",
    "    predicted = []\n",
    "    for i in range(len(Xtest)):\n",
    "        v= np.mean([model[c] for c in Xtest[i]  if c in model], axis=0)\n",
    "        if np.isnan(np.mean(v)):\n",
    "            ids = []\n",
    "        else:\n",
    "            ids = index.get_nns_by_vector(v,nn_num) #  finding 1 nearest neighbour\n",
    "        predicted_labels = []\n",
    "        for id in ids:\n",
    "            predicted_labels.extend(Ytrain[id])\n",
    "        if len(predicted_labels)>0:\n",
    "            cnter = Counter(predicted_labels)\n",
    "            max_val = max(cnter.values())\n",
    "            predicted.append([k for k,v in cnter.items() if v == max_val])\n",
    "        else:\n",
    "            predicted.append([])\n",
    "    tp = 0\n",
    "    fp = 0\n",
    "    true_label_num = 0\n",
    "    for i in xrange(len(Xtest)):\n",
    "        true = set(Ytest[i])\n",
    "        true_label_num+=len(true)\n",
    "        pred = set(predicted[i])\n",
    "        tp += len(true&pred)\n",
    "        fp += len(pred) - len(true&pred)\n",
    "\n",
    "    prec=tp*1.0/(tp+fp)\n",
    "    rec = tp*1.0/true_label_num\n",
    "    return prec, rec,  2 * prec * rec/ (prec+rec)\n",
    "    "
   ]
  },
  {
   "cell_type": "code",
   "execution_count": 7,
   "metadata": {},
   "outputs": [],
   "source": [
    "def cv(w2v_params = {},  cv_num=5, nn_num=1):\n",
    "    \"\"\"\n",
    "    Cross-validation function.\n",
    "    Returns list with precision, recall and F1 values\n",
    "    \"\"\"\n",
    "    precs, recs, fs = [],[],[]\n",
    "    for _ in range(cv_num):\n",
    "        p,r,f = cv_iter(w2v_params , nn_num=nn_num)\n",
    "        precs.append(p)\n",
    "        recs.append(r)\n",
    "        fs.append(f)\n",
    "    return precs, recs, fs"
   ]
  },
  {
   "cell_type": "code",
   "execution_count": 8,
   "metadata": {},
   "outputs": [
    {
     "data": {
      "text/plain": [
       "(0.3380580084716379, 0.3446192771742729, 0.34126854663591494)"
      ]
     },
     "execution_count": 8,
     "metadata": {},
     "output_type": "execute_result"
    }
   ],
   "source": [
    "p,r,f = cv(nn_num=1)\n",
    "np.mean(p), np.mean(r), np.mean(f)"
   ]
  },
  {
   "cell_type": "code",
   "execution_count": 9,
   "metadata": {},
   "outputs": [
    {
     "data": {
      "text/plain": [
       "(0.32355996427380057, 0.4552451894426387, 0.3782447191409461)"
      ]
     },
     "execution_count": 9,
     "metadata": {},
     "output_type": "execute_result"
    }
   ],
   "source": [
    "p,r,f = cv(nn_num=2)\n",
    "np.mean(p), np.mean(r), np.mean(f)"
   ]
  },
  {
   "cell_type": "code",
   "execution_count": 10,
   "metadata": {},
   "outputs": [
    {
     "data": {
      "text/plain": [
       "(0.4184919935751255, 0.40946009454937415, 0.4139009442855791)"
      ]
     },
     "execution_count": 10,
     "metadata": {},
     "output_type": "execute_result"
    }
   ],
   "source": [
    "p,r,f = cv(nn_num=5)\n",
    "np.mean(p), np.mean(r), np.mean(f)"
   ]
  },
  {
   "cell_type": "code",
   "execution_count": 11,
   "metadata": {},
   "outputs": [
    {
     "data": {
      "text/plain": [
       "(0.466098212954524, 0.3996496482483261, 0.4303217021068054)"
      ]
     },
     "execution_count": 11,
     "metadata": {},
     "output_type": "execute_result"
    }
   ],
   "source": [
    "p,r,f = cv(nn_num=10)\n",
    "np.mean(p), np.mean(r), np.mean(f)"
   ]
  },
  {
   "cell_type": "code",
   "execution_count": 12,
   "metadata": {},
   "outputs": [
    {
     "data": {
      "text/plain": [
       "(0.48437204683992735, 0.39640498020503107, 0.4359767202504729)"
      ]
     },
     "execution_count": 12,
     "metadata": {},
     "output_type": "execute_result"
    }
   ],
   "source": [
    "p,r,f = cv(nn_num=15)\n",
    "np.mean(p), np.mean(r), np.mean(f)"
   ]
  },
  {
   "cell_type": "code",
   "execution_count": 13,
   "metadata": {},
   "outputs": [
    {
     "data": {
      "text/plain": [
       "(0.4924475567166704, 0.39267578556032345, 0.43692428123592053)"
      ]
     },
     "execution_count": 13,
     "metadata": {},
     "output_type": "execute_result"
    }
   ],
   "source": [
    "p,r,f = cv(nn_num=20)\n",
    "np.mean(p), np.mean(r), np.mean(f)"
   ]
  },
  {
   "cell_type": "code",
   "execution_count": null,
   "metadata": {},
   "outputs": [],
   "source": []
  },
  {
   "cell_type": "code",
   "execution_count": 26,
   "metadata": {},
   "outputs": [],
   "source": []
  },
  {
   "cell_type": "code",
   "execution_count": null,
   "metadata": {},
   "outputs": [],
   "source": []
  },
  {
   "cell_type": "code",
   "execution_count": null,
   "metadata": {},
   "outputs": [],
   "source": []
  },
  {
   "cell_type": "code",
   "execution_count": null,
   "metadata": {},
   "outputs": [],
   "source": []
  },
  {
   "cell_type": "code",
   "execution_count": null,
   "metadata": {},
   "outputs": [],
   "source": []
  },
  {
   "cell_type": "code",
   "execution_count": null,
   "metadata": {},
   "outputs": [],
   "source": []
  },
  {
   "cell_type": "code",
   "execution_count": null,
   "metadata": {},
   "outputs": [],
   "source": []
  },
  {
   "cell_type": "code",
   "execution_count": null,
   "metadata": {},
   "outputs": [],
   "source": []
  },
  {
   "cell_type": "code",
   "execution_count": null,
   "metadata": {},
   "outputs": [],
   "source": []
  }
 ],
 "metadata": {
  "kernelspec": {
   "display_name": "Python 2",
   "language": "python",
   "name": "python2"
  },
  "language_info": {
   "codemirror_mode": {
    "name": "ipython",
    "version": 2
   },
   "file_extension": ".py",
   "mimetype": "text/x-python",
   "name": "python",
   "nbconvert_exporter": "python",
   "pygments_lexer": "ipython2",
   "version": "2.7.14"
  }
 },
 "nbformat": 4,
 "nbformat_minor": 2
}
