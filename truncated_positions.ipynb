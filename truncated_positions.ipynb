{
 "cells": [
  {
   "cell_type": "markdown",
   "metadata": {},
   "source": [
    "Experiment on filtered labels. \n",
    "5-fold validation."
   ]
  },
  {
   "cell_type": "code",
   "execution_count": 10,
   "metadata": {},
   "outputs": [],
   "source": [
    "from gensim.models import Word2Vec\n",
    "import annoy # fast approximate KNN\n",
    "import numpy as np"
   ]
  },
  {
   "cell_type": "code",
   "execution_count": 5,
   "metadata": {},
   "outputs": [
    {
     "name": "stdout",
     "output_type": "stream",
     "text": [
      "\"V1\" \"V2\"\r\n",
      "\"A0PJZ0\" \"MKLFGFRSRRGQTVLGSIDHLYTGSGYRIRYSELQKIHKAAVKGDAAEMERCLARRSGDLDALDKQHRTALHLACASGHVKVVTLLVNRKCQIDIYDKENRTPLIQAVHCQEEACAVILLEHGANPNLKDIYGNTALHYAVYSESTSLAEKLLFHGENIEALDKV\" \"\"\r\n",
      "\"P30461\" \"MRVTAPRTLLLLLWGAVALTETWAGSHSMRYFYTAMSRPGRGEPRFITVGYVDDTQFVRFDSDATSPRMAPRAPWIEQEGPEYWDRETQISKTNTQTYRENLRTALRYYNQSEAGSHTWQTMYGCDLGPDGRLLRGHNQLAYDGKDYIALNEDLSSWTAADTAAQITQLKWEAARVAEQLRAYLEGECVEWLRRYLENGKETLQRADPPKTHVTHHPISDHEATLRCWALGFYPAEITLTWQRDGEDQTQDTELVETRPAGDRTFQKWAAVVVPSGEEQRYTCHVQHEGLPKPLTLRWEPSSQSTVPIVGIVAGLAVLAVVVIGAVVAAVMCRRKSSGGKGGSYSQAACSDSAQGSDVSLTA\" \"\"\r\n",
      "\"P18825\" \"MASPALAAALAVAAAAGPNASGAGERGSGGVANASGASWGPPRGQYSAGAVAGLAAVVGFLIVFTVVGNVLVVIAVLTSRALRAPQNLFLVSLASADILVATLVMPFSLANELMAYWYFGQVWCGVYLALDVLFCTSSIVHLCAISLDRYWSVTQAVEYNLKRTPRRVKATIVAVWLISAVISFPPLVSLYRQPDGAAYPQCGLNDETWYILSSCIGSFFAPCLIMGLVYARIYRVAKLRTRTLSEKRAPVGPDGASPTTENGLGAAAGAGENGHCAPPPADVEPDESSAAAERRRRRGALRRGGRRRAGAEGGAGGADGQGAGPGAAESGALTASRSPGPGGRLSRASSRSVEFFLSRRRRARSSVCRRKVAQAREKRFTFVLAVVMGVFVLCWFPFFFSYSLYGICREACQVPGPLFKFFFWIGYCNSSLNPVIYTVFNQDFRRSFKHILFRRRRRGFRQ\" \"GO:0005575, GO:0005622, GO:0005623, GO:0005737, GO:0005768, GO:0005886, GO:0005887, GO:0012505, GO:0014069, GO:0016020, GO:0016021, GO:0030424, GO:0031224, GO:0031226, GO:0031410, GO:0031982, GO:0032279, GO:0033267, GO:0036477, GO:0042995, GO:0043005, GO:0043025, GO:0043226, GO:0043227, GO:0043229, GO:0043679, GO:0044297, GO:0044306, GO:0044422, GO:0044424, GO:0044425, GO:0044444, GO:0044456, GO:0044459, GO:0044463, GO:0044464, GO:0045202, GO:0045211, GO:0071944, GO:0097060, GO:0097458, GO:0097708, GO:0098590, GO:0098793, GO:0098794, GO:0098839, GO:0098936, GO:0098948, GO:0098978, GO:0098984, GO:0099055, GO:0099060, GO:0099061, GO:0099146, GO:0099240, GO:0099572, GO:0099634, GO:0099699, GO:0120025, GO:0120038, GO:0150034\"\r\n",
      "\"Q9NZK5\" \"MLVDGPSERPALCFLLLAVAMSFFGSALSIDETRAHLLLKEKMMRLGGRLVLNTKEELANERLMTLKIAEMKEAMRTLIFPPSMHFFQAKHLIERSQVFNILRMMPKGAALHLHDIGIVTMDWLVRNVTYRPHCHICFTPRGIMQFRFAHPTPRPSEKCSKWILLEDYRKRVQNVTEFDDSLLRNFTLVTQHPEVIYTNQNVVWSKFETIFFTISGLIHYAPVFRDYVFRSMQEFYEDNVLYMEIRARLLPVYELSGEHHDEEWSVKTYQEVAQKFVETHPEFIGIKIIYSDHRSKDVAVIAESIRMAMGLRIKFPTVVAGFDLVGHEDTGHSLHDYKEALMIPAKDGVKLPYFFHAGETDWQGTSIDRNILDALMLNTTRIGHGFALSKHPAVRTYSWKKDIPIEVCPISNQVLKLVSDLRNHPVATLMATGHPMVISSDDPAMFGAKGLSYDFYEVFMGIGGMKADLRTLKQLAMNSIKYSTLLESEKNTFMEIWKKRWDKFIADVATK\" \"GO:0000323, GO:0005575, GO:0005576, GO:0005615, GO:0005622, GO:0005623, GO:0005737, GO:0005764, GO:0005766, GO:0005773, GO:0005775, GO:0012505, GO:0030141, GO:0031410, GO:0031974, GO:0031982, GO:0031983, GO:0034774, GO:0035578, GO:0042582, GO:0043226, GO:0043227, GO:0043229, GO:0043231, GO:0043233, GO:0044421, GO:0044422, GO:0044424, GO:0044433, GO:0044437, GO:0044444, GO:0044446, GO:0044464, GO:0060205, GO:0070013, GO:0097708, GO:0099503\"\r\n",
      "\"Q99424\" \"MGSPVHRVSLGDTWSRQMHPDIESERYMQSFDVERLTNILDGGAQNTALRRKVESIIHSYPEFSCKDNYFMTQNERYKAAMRRAFHIRLIARRLGWLEDGRELGYAYRALSGDVALNIHRVFVRALRSLGSEEQIAKWDPLCKNIQIIATYAQTELGHGTYLQGLETEATYDAATQEFVIHSPTLTATKWWPGDLGRSATHALVQAQLICSGARRGMHAFIVPIRSLQDHTPLPGIIIGDIGPKMDFDQTDNGFLQLNHVRVPRENMLSRFAQVLPDGTYVKLGTAQSNYLPMVVVRVELLSGEILPILQKACVIAMRYSVIRRQSRLRPSDPEAKVLDYQTQQQKLFPQLAISYAFHFLAVSLLEFFQHSYTAILNQDFSFLPELHALSTGMKAMMSEFCTQGAEMCRRACGGHGYSKLSGLPSLVTKLSASCTYEGENTVLYLQVARFLVKSYLQTQMSPGSTPQRSLSPSVAYLTAPDLARCPAQRAADFLCPELYTTAWAHVAVRLIKDSVQHLQTLTQSGADQHEAWNQTTVIHLQAAKVHCYYVTVKGFTEALEKLENEPAIQQVLKRLCDLHAIHGILTNSGDFLHDAFLSGAQVDMARTAYLDLLRLIRKDAILLTDAFDFTDQCLNSALGCYDGNVYERLFQWAQKSPTNTQENPAYEEYIRPLLQSWRSKL\" \"GO:0005575, GO:0005622, GO:0005623, GO:0005737, GO:0005777, GO:0005782, GO:0005829, GO:0031907, GO:0031974, GO:0042579, GO:0043226, GO:0043227, GO:0043229, GO:0043231, GO:0043233, GO:0044422, GO:0044424, GO:0044438, GO:0044439, GO:0044444, GO:0044446, GO:0044464, GO:0070013\"\r\n",
      "\"Q8WW27\" \"MEPIYEEYLANHGTIVKPYYWLSFSLDCSNCPYHIRTGEEARVSLTEFCQIFGFPYGTTFPQTKHLTFYELKTSSGSLVQKGHASSCTGNYIHPESMLFEMNGYLDSAIYNNDSIRHIILYSNNSPCNEANHCCISKMYNFLITYPGITLSIYFSQLYHTEMDFPASAWNREALRSLASLWPRVVLSPISGGIWHSVLHSFISGVSGSHVFQPILTGRALADRHNAYEINAITGVKPYFTDVLLQTKRNPNTKAQEALESYPLNNAFPGQFFQMPSGQLQPNLPPDLRAPVVFVLVPLRDLPPMHMGQNPNKPRNIVRHLNMPQMSFQETKDLGRLPTGRSVEIVEITEQFASSKEADEKKKKKGKK\" \"\"\r\n",
      "\"Q8NER5\" \"MTRALCSALRQALLLLAAAAELSPGLKCVCLLCDSSNFTCQTEGACWASVMLTNGKEQVIKSCVSLPELNAQVFCHSSNNVTKTECCFTDFCNNITLHLPTASPNAPKLGPMELAIIITVPVCLLSIAAMLTVWACQGRQCSYRKKKRPNVEEPLSECNLVNAGKTLKDLIYDVTASGSGSGLPLLVQRTIARTIVLQEIVGKGRFGEVWHGRWCGEDVAVKIFSSRDERSWFREAEIYQTVMLRHENILGFIAADNKDNGTWTQLWLVSEYHEQGSLYDYLNRNIVTVAGMIKLALSIASGLAHLHMEIVGTQGKPAIAHRDIKSKNILVKKCETCAIADLGLAVKHDSILNTIDIPQNPKVGTKRYMAPEMLDDTMNVNIFESFKRADIYSVGLVYWEIARRCSVGGIVEEYQLPYYDMVPSDPSIEEMRKVVCDQKFRPSIPNQWQSCEALRVMGRIMRECWYANGAARLTALRIKKTISQLCVKEDCKA\" \"GO:0005575, GO:0005623, GO:0005886, GO:0005887, GO:0016020, GO:0016021, GO:0031224, GO:0031226, GO:0032991, GO:0043235, GO:0044425, GO:0044459, GO:0044464, GO:0048179, GO:0061695, GO:0071944, GO:0098796, GO:0098797, GO:0098802, GO:1902494, GO:1902554, GO:1902911, GO:1990234\"\r\n",
      "\"P07311\" \"MAEGNTLISVDYEIFGKVQGVFFRKHTQAEGKKLGLVGWVQNTDRGTVQGQLQGPISKVRHMQEWLETRGSPKSHIDKANFNNEKVILKLDYSDFQIVK\" \"\"\r\n",
      "\"Q9ULC5\" \"MLFIFNFLFSPLPTPALICILTFGAAIFLWLITRPQPVLPLLDLNNQSVGIEGGARKGVSQKNNDLTSCCFSDAKTMYEVFQRGLAVSDNGPCLGYRKPNQPYRWLSYKQVSDRAEYLGSCLLHKGYKSSPDQFVGIFAQNRPEWIISELACYTYSMVAVPLYDTLGPEAIVHIVNKADIAMVICDTPQKALVLIGNVEKGFTPSLKVIILMDPFDDDLKQRGEKSGIEILSLYDAENLGKEHFRKPVPPSPEDLSVICFTSGTTGDPKGAMITHQNIVSNAAAFLKCVEHAYEPTPDDVAISYLPLAHMFERIVQAVVYSCGARVGFFQGDIRLLADDMKTLKPTLFPAVPRLLNRIYDKVQNEAKTPLKKFLLKLAVSSKFKELQKGIIRHDSFWDKLIFAKIQDSLGGRVRVIVTGAAPMSTSVMTFFRAAMGCQVYEAYGQTECTGGCTFTLPGDWTSGHVGVPLACNYVKLEDVADMNYFTVNNEGEVCIKGTNVFKGYLKDPEKTQEALDSDGWLHTGDIGRWLPNGTLKIIDRKKNIFKLAQGEYIAPEKIENIYNRSQPVLQIFVHGESLRSSLVGVVVPDTDVLPSFAAKLGVKGSFEELCQNQVVREAILEDLQKIGKESGLKTFEQVKAIFLHPEPFSIENGLLTPTLKAKRGELSKYFRTQIDSLYEHIQD\" \"GO:0005575, GO:0005622, GO:0005623, GO:0005634, GO:0005730, GO:0005737, GO:0005739, GO:0005740, GO:0005741, GO:0005783, GO:0005789, GO:0012505, GO:0016020, GO:0016021, GO:0019867, GO:0031090, GO:0031224, GO:0031966, GO:0031967, GO:0031968, GO:0031974, GO:0031975, GO:0031981, GO:0031984, GO:0042175, GO:0043226, GO:0043227, GO:0043228, GO:0043229, GO:0043231, GO:0043232, GO:0043233, GO:0044422, GO:0044424, GO:0044425, GO:0044428, GO:0044429, GO:0044432, GO:0044444, GO:0044446, GO:0044464, GO:0070013, GO:0098588, GO:0098805, GO:0098827\"\r\n"
     ]
    }
   ],
   "source": [
    "!head ./UP000005640.goByGeneC"
   ]
  },
  {
   "cell_type": "code",
   "execution_count": 11,
   "metadata": {},
   "outputs": [],
   "source": [
    "with open('./good_labels') as inp:\n",
    "    good_labels = set()\n",
    "    for y in inp:\n",
    "        good_labels.add(y.strip())"
   ]
  },
  {
   "cell_type": "code",
   "execution_count": 12,
   "metadata": {},
   "outputs": [],
   "source": [
    "X = [] # sequence strings\n",
    "Y = [] # list of labels for each sequence\n",
    "all_y = set() # all the labels collected from the dataset\n",
    "with open('./UP000005640.goByGeneC') as inp:\n",
    "    inp.readline() # header\n",
    "    for line in inp:\n",
    "        tokens = map(lambda x: x.strip('\"'), line.split(' ',2))\n",
    "        X.append(tokens[1])\n",
    "        object_labels = [t.strip().strip('\"') for t in tokens[2].split(',') if len(t.strip())>0 and t.strip]\n",
    "        Y.append([y for y in object_labels if y in good_labels])\n",
    "        all_y = all_y.union(set(Y[-1]))"
   ]
  },
  {
   "cell_type": "code",
   "execution_count": 13,
   "metadata": {},
   "outputs": [
    {
     "name": "stdout",
     "output_type": "stream",
     "text": [
      "example of X ['MKLFGFRSRRGQTVLGSIDHLYTGSGYRIRYSELQKIHKAAVKGDAAEMERCLARRSGDLDALDKQHRTALHLACASGHVKVVTLLVNRKCQIDIYDKENRTPLIQAVHCQEEACAVILLEHGANPNLKDIYGNTALHYAVYSESTSLAEKLLFHGENIEALDKV', 'MRVTAPRTLLLLLWGAVALTETWAGSHSMRYFYTAMSRPGRGEPRFITVGYVDDTQFVRFDSDATSPRMAPRAPWIEQEGPEYWDRETQISKTNTQTYRENLRTALRYYNQSEAGSHTWQTMYGCDLGPDGRLLRGHNQLAYDGKDYIALNEDLSSWTAADTAAQITQLKWEAARVAEQLRAYLEGECVEWLRRYLENGKETLQRADPPKTHVTHHPISDHEATLRCWALGFYPAEITLTWQRDGEDQTQDTELVETRPAGDRTFQKWAAVVVPSGEEQRYTCHVQHEGLPKPLTLRWEPSSQSTVPIVGIVAGLAVLAVVVIGAVVAAVMCRRKSSGGKGGSYSQAACSDSAQGSDVSLTA', 'MASPALAAALAVAAAAGPNASGAGERGSGGVANASGASWGPPRGQYSAGAVAGLAAVVGFLIVFTVVGNVLVVIAVLTSRALRAPQNLFLVSLASADILVATLVMPFSLANELMAYWYFGQVWCGVYLALDVLFCTSSIVHLCAISLDRYWSVTQAVEYNLKRTPRRVKATIVAVWLISAVISFPPLVSLYRQPDGAAYPQCGLNDETWYILSSCIGSFFAPCLIMGLVYARIYRVAKLRTRTLSEKRAPVGPDGASPTTENGLGAAAGAGENGHCAPPPADVEPDESSAAAERRRRRGALRRGGRRRAGAEGGAGGADGQGAGPGAAESGALTASRSPGPGGRLSRASSRSVEFFLSRRRRARSSVCRRKVAQAREKRFTFVLAVVMGVFVLCWFPFFFSYSLYGICREACQVPGPLFKFFFWIGYCNSSLNPVIYTVFNQDFRRSFKHILFRRRRRGFRQ']\n",
      "example of Y [[], [], ['GO:0005768', 'GO:0005886', 'GO:0005887', 'GO:0012505', 'GO:0014069', 'GO:0016021', 'GO:0030424', 'GO:0031224', 'GO:0031226', 'GO:0031410', 'GO:0031982', 'GO:0032279', 'GO:0033267', 'GO:0036477', 'GO:0042995', 'GO:0043005', 'GO:0043025', 'GO:0043679', 'GO:0044297', 'GO:0044306', 'GO:0044425', 'GO:0044456', 'GO:0044459', 'GO:0044463', 'GO:0045202', 'GO:0045211', 'GO:0071944', 'GO:0097060', 'GO:0097458', 'GO:0097708', 'GO:0098590', 'GO:0098793', 'GO:0098794', 'GO:0098936', 'GO:0098978', 'GO:0098984', 'GO:0099055', 'GO:0099240', 'GO:0099572', 'GO:0099634', 'GO:0099699', 'GO:0120025', 'GO:0120038', 'GO:0150034']]\n",
      "example of set of labels ['GO:0099512', 'GO:0005783', 'GO:0031974']\n",
      "total sequences 20416\n",
      "total labels 296\n"
     ]
    }
   ],
   "source": [
    "print 'example of X', X[:3]\n",
    "print 'example of Y', Y[:3]\n",
    "print 'example of set of labels', list(all_y)[:3]\n",
    "print 'total sequences', len(X)\n",
    "print 'total labels', len(all_y)"
   ]
  },
  {
   "cell_type": "code",
   "execution_count": 19,
   "metadata": {},
   "outputs": [],
   "source": [
    "def cv_iter(w2v_params={}, trunc_num_train=-1, trunc_num_test=-1):    \n",
    "    \"\"\"\n",
    "    one ieration of cross-validation\n",
    "    w2v_params is a dictionary with parameters of gensim.Word2Vec\n",
    "    \"\"\"\n",
    "    indices = range(len(X))\n",
    "    np.random.shuffle(indices)\n",
    "\n",
    "    Xtrain = np.array(X)[indices[:len(indices)/2]]\n",
    "    Ytrain = np.array(Y)[indices[:len(indices)/2]]\n",
    "    Xtest = np.array(X)[indices[len(indices)/2:]]\n",
    "    Ytest = np.array(Y)[indices[len(indices)/2:]]\n",
    "    # split all the strings into lists for word2vec traing\n",
    "    Xtrain = [list(x[:trunc_num_train])for x in Xtrain]\n",
    "    Xtest = [list(x) for x in Xtest]\n",
    "    model = Word2Vec(Xtrain, **w2v_params)\n",
    "    index = annoy.AnnoyIndex(w2v_params.get('size', 100)) # default value is 100 for gensim.Word2Vec\n",
    "    for i in range(len(Xtrain)):\n",
    "        v= np.mean([model[c] for c in Xtrain[i][:trunc_num_test]  if c in model], axis=0) # centroid\n",
    "        index.add_item(i, v)\n",
    "    index.build(100) # 100 is a number of trees in index, we can alibrate this value\n",
    "    predicted = []\n",
    "    for i in range(len(Xtest)):\n",
    "        v= np.mean([model[c] for c in Xtest[i][:trunc_num_test] if c in model], axis=0)\n",
    "        id = index.get_nns_by_vector(v,1)[0] #  finding 1 nearest neighbour\n",
    "        predicted.append(id)\n",
    "    tp = 0\n",
    "    fp = 0\n",
    "    true_label_num = 0\n",
    "    for i in xrange(len(Xtest)):\n",
    "        true = set(Ytest[i])\n",
    "        true_label_num+=len(true)\n",
    "        pred = set(Ytrain[predicted[i]])\n",
    "        tp += len(true&pred)\n",
    "        fp += len(pred) - len(true&pred)\n",
    "\n",
    "    prec=tp*1.0/(tp+fp)\n",
    "    rec = tp*1.0/true_label_num\n",
    "    return prec, rec,  2 * prec * rec/ (prec+rec)\n",
    "    "
   ]
  },
  {
   "cell_type": "code",
   "execution_count": 20,
   "metadata": {},
   "outputs": [],
   "source": [
    "def cv(w2v_params = {}, cv_num = 5, trunc_num_train=-1, trunc_num_test=-1 ):\n",
    "    \"\"\"\n",
    "    Cross-validation function.\n",
    "    Returns list with precision, recall and F1 values\n",
    "    \"\"\"\n",
    "    precs, recs, fs = [],[],[]\n",
    "    for _ in range(cv_num):\n",
    "        p,r,f = cv_iter(w2v_params, trunc_num_train, trunc_num_test)\n",
    "        precs.append(p)\n",
    "        recs.append(r)\n",
    "        fs.append(f)\n",
    "    return precs, recs, fs"
   ]
  },
  {
   "cell_type": "code",
   "execution_count": 21,
   "metadata": {},
   "outputs": [
    {
     "data": {
      "text/plain": [
       "(0.19801333252772998, 0.196039748835597, 0.19701227295607307)"
      ]
     },
     "execution_count": 21,
     "metadata": {},
     "output_type": "execute_result"
    }
   ],
   "source": [
    "p,r,f = cv(trunc_num_train=30, trunc_num_test=30)\n",
    "np.mean(p), np.mean(r), np.mean(f)"
   ]
  },
  {
   "cell_type": "code",
   "execution_count": 22,
   "metadata": {},
   "outputs": [
    {
     "data": {
      "text/plain": [
       "(0.20698461737507143, 0.20447192309871326, 0.20571312577256512)"
      ]
     },
     "execution_count": 22,
     "metadata": {},
     "output_type": "execute_result"
    }
   ],
   "source": [
    "p,r,f = cv(trunc_num_train=-1, trunc_num_test=30)\n",
    "np.mean(p), np.mean(r), np.mean(f)"
   ]
  },
  {
   "cell_type": "code",
   "execution_count": 23,
   "metadata": {},
   "outputs": [
    {
     "data": {
      "text/plain": [
       "(0.18755352865326308, 0.18704630413653942, 0.18729574984411781)"
      ]
     },
     "execution_count": 23,
     "metadata": {},
     "output_type": "execute_result"
    }
   ],
   "source": [
    "p,r,f = cv(trunc_num_train=-1, trunc_num_test=10)\n",
    "np.mean(p), np.mean(r), np.mean(f)"
   ]
  },
  {
   "cell_type": "code",
   "execution_count": 24,
   "metadata": {},
   "outputs": [
    {
     "data": {
      "text/plain": [
       "(0.17654730227021329, 0.1737373235686667, 0.1751289463065961)"
      ]
     },
     "execution_count": 24,
     "metadata": {},
     "output_type": "execute_result"
    }
   ],
   "source": [
    "p,r,f = cv(trunc_num_train=10, trunc_num_test=10)\n",
    "np.mean(p), np.mean(r), np.mean(f)"
   ]
  },
  {
   "cell_type": "code",
   "execution_count": 26,
   "metadata": {},
   "outputs": [
    {
     "data": {
      "text/plain": [
       "(0.2392785429491009, 0.2365239862657899, 0.23788249806664413)"
      ]
     },
     "execution_count": 26,
     "metadata": {},
     "output_type": "execute_result"
    }
   ],
   "source": [
    "p,r,f = cv(trunc_num_train=200, trunc_num_test=200)\n",
    "np.mean(p), np.mean(r), np.mean(f)"
   ]
  },
  {
   "cell_type": "code",
   "execution_count": 27,
   "metadata": {},
   "outputs": [
    {
     "data": {
      "text/plain": [
       "(0.2398334095723175, 0.24127898319906324, 0.2405217724238795)"
      ]
     },
     "execution_count": 27,
     "metadata": {},
     "output_type": "execute_result"
    }
   ],
   "source": [
    "p,r,f = cv(trunc_num_train=-1, trunc_num_test=200)\n",
    "np.mean(p), np.mean(r), np.mean(f)"
   ]
  }
 ],
 "metadata": {
  "kernelspec": {
   "display_name": "Python 2",
   "language": "python",
   "name": "python2"
  },
  "language_info": {
   "codemirror_mode": {
    "name": "ipython",
    "version": 2
   },
   "file_extension": ".py",
   "mimetype": "text/x-python",
   "name": "python",
   "nbconvert_exporter": "python",
   "pygments_lexer": "ipython2",
   "version": "2.7.14"
  }
 },
 "nbformat": 4,
 "nbformat_minor": 2
}
